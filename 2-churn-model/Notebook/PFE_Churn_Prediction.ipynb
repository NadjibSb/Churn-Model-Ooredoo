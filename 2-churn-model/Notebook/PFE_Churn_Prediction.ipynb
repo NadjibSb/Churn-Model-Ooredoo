{
 "cells": [
  {
   "cell_type": "markdown",
   "metadata": {
    "id": "H0Jo0MdaCyP5"
   },
   "source": [
    "# **Churn Prediction Analysis**"
   ]
  },
  {
   "cell_type": "markdown",
   "metadata": {
    "id": "UeK8nhPqCxXa"
   },
   "source": [
    "In churn prediction, we assume that there are three phases of customer lifecycle :\n",
    "\n",
    "- The ‘good’ phase [Month 6 & 7]\n",
    "- The ‘action’ phase [Month 8]\n",
    "- The ‘churn’ phase [Month 9]\n",
    "\n",
    "In this case, since we are working over a four-month window, the first two months are the ‘good’ phase, the third month is the ‘action’ phase, while the fourth month is the ‘churn’ phase."
   ]
  },
  {
   "cell_type": "markdown",
   "metadata": {
    "id": "XCLRQUGDapvP"
   },
   "source": [
    "## instalation"
   ]
  },
  {
   "cell_type": "code",
   "execution_count": null,
   "metadata": {
    "colab": {
     "base_uri": "https://localhost:8080/",
     "height": 71
    },
    "id": "bGNZ-f0RCmCX",
    "outputId": "efc48a34-c602-46d3-ed14-04fce35079e4"
   },
   "outputs": [
    {
     "name": "stderr",
     "output_type": "stream",
     "text": [
      "/usr/local/lib/python3.6/dist-packages/statsmodels/tools/_testing.py:19: FutureWarning: pandas.util.testing is deprecated. Use the functions in the public API at pandas.testing instead.\n",
      "  import pandas.util.testing as tm\n"
     ]
    }
   ],
   "source": [
    "## imports\n",
    "import pandas as pd\n",
    "import numpy as np\n",
    "import os\n",
    "\n",
    "from sklearn.model_selection import train_test_split\n",
    "from sklearn.metrics import classification_report, confusion_matrix, accuracy_score\n",
    "import matplotlib.pyplot as plt\n",
    "import seaborn as sns\n",
    "sns.set()\n",
    "\n",
    "import pickle\n",
    "import timeit, time\n",
    "\n",
    "\n",
    "## Config\n",
    "pd.set_option('display.max_rows', 300)\n",
    "pd.set_option('display.max_columns', None)\n",
    "pd.set_option('display.width', 1000)\n",
    "pd.options.display.float_format = '{:.2f}'.format\n",
    "\n",
    "# Suppressing Warnings\n",
    "import warnings\n",
    "warnings.filterwarnings('ignore')"
   ]
  },
  {
   "cell_type": "markdown",
   "metadata": {
    "id": "O8rSgUxrB48I"
   },
   "source": [
    "#### TPOT instalation"
   ]
  },
  {
   "cell_type": "code",
   "execution_count": null,
   "metadata": {
    "colab": {
     "base_uri": "https://localhost:8080/"
    },
    "id": "yEKN-_2kA2nI",
    "outputId": "367e982d-b664-4071-d5f3-544f849df669"
   },
   "outputs": [
    {
     "name": "stdout",
     "output_type": "stream",
     "text": [
      "Collecting deap\n",
      "\u001b[?25l  Downloading https://files.pythonhosted.org/packages/0a/eb/2bd0a32e3ce757fb26264765abbaedd6d4d3640d90219a513aeabd08ee2b/deap-1.3.1-cp36-cp36m-manylinux2010_x86_64.whl (157kB)\n",
      "\r",
      "\u001b[K     |██                              | 10kB 14.4MB/s eta 0:00:01\r",
      "\u001b[K     |████▏                           | 20kB 2.2MB/s eta 0:00:01\r",
      "\u001b[K     |██████▎                         | 30kB 2.7MB/s eta 0:00:01\r",
      "\u001b[K     |████████▍                       | 40kB 3.0MB/s eta 0:00:01\r",
      "\u001b[K     |██████████▍                     | 51kB 2.5MB/s eta 0:00:01\r",
      "\u001b[K     |████████████▌                   | 61kB 2.8MB/s eta 0:00:01\r",
      "\u001b[K     |██████████████▋                 | 71kB 3.1MB/s eta 0:00:01\r",
      "\u001b[K     |████████████████▊               | 81kB 3.3MB/s eta 0:00:01\r",
      "\u001b[K     |██████████████████▊             | 92kB 3.6MB/s eta 0:00:01\r",
      "\u001b[K     |████████████████████▉           | 102kB 3.4MB/s eta 0:00:01\r",
      "\u001b[K     |███████████████████████         | 112kB 3.4MB/s eta 0:00:01\r",
      "\u001b[K     |█████████████████████████       | 122kB 3.4MB/s eta 0:00:01\r",
      "\u001b[K     |███████████████████████████▏    | 133kB 3.4MB/s eta 0:00:01\r",
      "\u001b[K     |█████████████████████████████▏  | 143kB 3.4MB/s eta 0:00:01\r",
      "\u001b[K     |███████████████████████████████▎| 153kB 3.4MB/s eta 0:00:01\r",
      "\u001b[K     |████████████████████████████████| 163kB 3.4MB/s \n",
      "\u001b[?25hCollecting update_checker\n",
      "  Downloading https://files.pythonhosted.org/packages/0c/ba/8dd7fa5f0b1c6a8ac62f8f57f7e794160c1f86f31c6d0fb00f582372a3e4/update_checker-0.18.0-py3-none-any.whl\n",
      "Requirement already satisfied: tqdm in /usr/local/lib/python3.6/dist-packages (4.41.1)\n",
      "Collecting stopit\n",
      "  Downloading https://files.pythonhosted.org/packages/35/58/e8bb0b0fb05baf07bbac1450c447d753da65f9701f551dca79823ce15d50/stopit-1.1.2.tar.gz\n",
      "Requirement already satisfied: numpy in /usr/local/lib/python3.6/dist-packages (from deap) (1.18.5)\n",
      "Requirement already satisfied: requests>=2.3.0 in /usr/local/lib/python3.6/dist-packages (from update_checker) (2.23.0)\n",
      "Requirement already satisfied: chardet<4,>=3.0.2 in /usr/local/lib/python3.6/dist-packages (from requests>=2.3.0->update_checker) (3.0.4)\n",
      "Requirement already satisfied: urllib3!=1.25.0,!=1.25.1,<1.26,>=1.21.1 in /usr/local/lib/python3.6/dist-packages (from requests>=2.3.0->update_checker) (1.24.3)\n",
      "Requirement already satisfied: idna<3,>=2.5 in /usr/local/lib/python3.6/dist-packages (from requests>=2.3.0->update_checker) (2.10)\n",
      "Requirement already satisfied: certifi>=2017.4.17 in /usr/local/lib/python3.6/dist-packages (from requests>=2.3.0->update_checker) (2020.6.20)\n",
      "Building wheels for collected packages: stopit\n",
      "  Building wheel for stopit (setup.py) ... \u001b[?25l\u001b[?25hdone\n",
      "  Created wheel for stopit: filename=stopit-1.1.2-cp36-none-any.whl size=11956 sha256=fe4ad7fefc1293856e33df82401afb3869f6922d242eb07bb2bec9d0e667eb4f\n",
      "  Stored in directory: /root/.cache/pip/wheels/3c/85/2b/2580190404636bfc63e8de3dff629c03bb795021e1983a6cc7\n",
      "Successfully built stopit\n",
      "Installing collected packages: deap, update-checker, stopit\n",
      "Successfully installed deap-1.3.1 stopit-1.1.2 update-checker-0.18.0\n",
      "Collecting tpot\n",
      "\u001b[?25l  Downloading https://files.pythonhosted.org/packages/14/5e/cb87b0257033a7a396e533a634079ee151a239d180efe2a8b1d2e3584d23/TPOT-0.11.5-py3-none-any.whl (82kB)\n",
      "\u001b[K     |████████████████████████████████| 92kB 2.9MB/s \n",
      "\u001b[?25hRequirement already satisfied: scikit-learn>=0.22.0 in /usr/local/lib/python3.6/dist-packages (from tpot) (0.22.2.post1)\n",
      "Requirement already satisfied: pandas>=0.24.2 in /usr/local/lib/python3.6/dist-packages (from tpot) (1.0.5)\n",
      "Requirement already satisfied: tqdm>=4.36.1 in /usr/local/lib/python3.6/dist-packages (from tpot) (4.41.1)\n",
      "Requirement already satisfied: deap>=1.2 in /usr/local/lib/python3.6/dist-packages (from tpot) (1.3.1)\n",
      "Requirement already satisfied: update-checker>=0.16 in /usr/local/lib/python3.6/dist-packages (from tpot) (0.18.0)\n",
      "Requirement already satisfied: numpy>=1.16.3 in /usr/local/lib/python3.6/dist-packages (from tpot) (1.18.5)\n",
      "Requirement already satisfied: joblib>=0.13.2 in /usr/local/lib/python3.6/dist-packages (from tpot) (0.16.0)\n",
      "Requirement already satisfied: scipy>=1.3.1 in /usr/local/lib/python3.6/dist-packages (from tpot) (1.4.1)\n",
      "Requirement already satisfied: stopit>=1.1.1 in /usr/local/lib/python3.6/dist-packages (from tpot) (1.1.2)\n",
      "Requirement already satisfied: pytz>=2017.2 in /usr/local/lib/python3.6/dist-packages (from pandas>=0.24.2->tpot) (2018.9)\n",
      "Requirement already satisfied: python-dateutil>=2.6.1 in /usr/local/lib/python3.6/dist-packages (from pandas>=0.24.2->tpot) (2.8.1)\n",
      "Requirement already satisfied: requests>=2.3.0 in /usr/local/lib/python3.6/dist-packages (from update-checker>=0.16->tpot) (2.23.0)\n",
      "Requirement already satisfied: six>=1.5 in /usr/local/lib/python3.6/dist-packages (from python-dateutil>=2.6.1->pandas>=0.24.2->tpot) (1.15.0)\n",
      "Requirement already satisfied: urllib3!=1.25.0,!=1.25.1,<1.26,>=1.21.1 in /usr/local/lib/python3.6/dist-packages (from requests>=2.3.0->update-checker>=0.16->tpot) (1.24.3)\n",
      "Requirement already satisfied: chardet<4,>=3.0.2 in /usr/local/lib/python3.6/dist-packages (from requests>=2.3.0->update-checker>=0.16->tpot) (3.0.4)\n",
      "Requirement already satisfied: certifi>=2017.4.17 in /usr/local/lib/python3.6/dist-packages (from requests>=2.3.0->update-checker>=0.16->tpot) (2020.6.20)\n",
      "Requirement already satisfied: idna<3,>=2.5 in /usr/local/lib/python3.6/dist-packages (from requests>=2.3.0->update-checker>=0.16->tpot) (2.10)\n",
      "Installing collected packages: tpot\n",
      "Successfully installed tpot-0.11.5\n"
     ]
    }
   ],
   "source": [
    "# Instalation TPOT\n",
    "!pip install deap update_checker tqdm stopit\n",
    "!pip install tpot"
   ]
  },
  {
   "cell_type": "markdown",
   "metadata": {
    "id": "2264U_O1YBSm"
   },
   "source": [
    "## Load data"
   ]
  },
  {
   "cell_type": "code",
   "execution_count": null,
   "metadata": {
    "id": "R4XNADGoDnPA"
   },
   "outputs": [],
   "source": [
    "df = pd.read_csv(\"clustered_dataset.csv\",index_col=\"index\")"
   ]
  },
  {
   "cell_type": "code",
   "execution_count": null,
   "metadata": {
    "colab": {
     "base_uri": "https://localhost:8080/",
     "height": 272
    },
    "id": "tcOGfgIgrNyR",
    "outputId": "5803d0e1-90e5-4756-871f-e3fbacf625d7"
   },
   "outputs": [
    {
     "name": "stdout",
     "output_type": "stream",
     "text": [
      "(38744, 52)\n"
     ]
    },
    {
     "data": {
      "text/html": [
       "<div>\n",
       "<style scoped>\n",
       "    .dataframe tbody tr th:only-of-type {\n",
       "        vertical-align: middle;\n",
       "    }\n",
       "\n",
       "    .dataframe tbody tr th {\n",
       "        vertical-align: top;\n",
       "    }\n",
       "\n",
       "    .dataframe thead th {\n",
       "        text-align: right;\n",
       "    }\n",
       "</style>\n",
       "<table border=\"1\" class=\"dataframe\">\n",
       "  <thead>\n",
       "    <tr style=\"text-align: right;\">\n",
       "      <th></th>\n",
       "      <th>mobile_number</th>\n",
       "      <th>arpu_6</th>\n",
       "      <th>arpu_7</th>\n",
       "      <th>arpu_8</th>\n",
       "      <th>onnet_mou_6</th>\n",
       "      <th>onnet_mou_7</th>\n",
       "      <th>onnet_mou_8</th>\n",
       "      <th>offnet_mou_6</th>\n",
       "      <th>offnet_mou_7</th>\n",
       "      <th>offnet_mou_8</th>\n",
       "      <th>roam_ic_mou_6</th>\n",
       "      <th>roam_ic_mou_7</th>\n",
       "      <th>roam_ic_mou_8</th>\n",
       "      <th>roam_og_mou_6</th>\n",
       "      <th>roam_og_mou_7</th>\n",
       "      <th>roam_og_mou_8</th>\n",
       "      <th>total_og_mou_6</th>\n",
       "      <th>total_og_mou_7</th>\n",
       "      <th>total_og_mou_8</th>\n",
       "      <th>total_ic_mou_6</th>\n",
       "      <th>total_ic_mou_7</th>\n",
       "      <th>total_ic_mou_8</th>\n",
       "      <th>total_rech_num_6</th>\n",
       "      <th>total_rech_num_7</th>\n",
       "      <th>total_rech_num_8</th>\n",
       "      <th>total_rech_amt_6</th>\n",
       "      <th>total_rech_amt_7</th>\n",
       "      <th>total_rech_amt_8</th>\n",
       "      <th>total_rech_data_6</th>\n",
       "      <th>total_rech_data_7</th>\n",
       "      <th>total_rech_data_8</th>\n",
       "      <th>av_rech_amt_data_6</th>\n",
       "      <th>av_rech_amt_data_7</th>\n",
       "      <th>av_rech_amt_data_8</th>\n",
       "      <th>aon</th>\n",
       "      <th>sms_ic_6</th>\n",
       "      <th>sms_ic_7</th>\n",
       "      <th>sms_ic_8</th>\n",
       "      <th>sms_og_6</th>\n",
       "      <th>sms_og_7</th>\n",
       "      <th>sms_og_8</th>\n",
       "      <th>churn</th>\n",
       "      <th>days_since_last_rech_6</th>\n",
       "      <th>days_since_last_rech_7</th>\n",
       "      <th>days_since_last_rech_8</th>\n",
       "      <th>days_since_last_rech_data_6</th>\n",
       "      <th>days_since_last_rech_data_7</th>\n",
       "      <th>days_since_last_rech_data_8</th>\n",
       "      <th>count_2g3g</th>\n",
       "      <th>vol_2g3g</th>\n",
       "      <th>monthly_2g3g</th>\n",
       "      <th>segment</th>\n",
       "    </tr>\n",
       "    <tr>\n",
       "      <th>index</th>\n",
       "      <th></th>\n",
       "      <th></th>\n",
       "      <th></th>\n",
       "      <th></th>\n",
       "      <th></th>\n",
       "      <th></th>\n",
       "      <th></th>\n",
       "      <th></th>\n",
       "      <th></th>\n",
       "      <th></th>\n",
       "      <th></th>\n",
       "      <th></th>\n",
       "      <th></th>\n",
       "      <th></th>\n",
       "      <th></th>\n",
       "      <th></th>\n",
       "      <th></th>\n",
       "      <th></th>\n",
       "      <th></th>\n",
       "      <th></th>\n",
       "      <th></th>\n",
       "      <th></th>\n",
       "      <th></th>\n",
       "      <th></th>\n",
       "      <th></th>\n",
       "      <th></th>\n",
       "      <th></th>\n",
       "      <th></th>\n",
       "      <th></th>\n",
       "      <th></th>\n",
       "      <th></th>\n",
       "      <th></th>\n",
       "      <th></th>\n",
       "      <th></th>\n",
       "      <th></th>\n",
       "      <th></th>\n",
       "      <th></th>\n",
       "      <th></th>\n",
       "      <th></th>\n",
       "      <th></th>\n",
       "      <th></th>\n",
       "      <th></th>\n",
       "      <th></th>\n",
       "      <th></th>\n",
       "      <th></th>\n",
       "      <th></th>\n",
       "      <th></th>\n",
       "      <th></th>\n",
       "      <th></th>\n",
       "      <th></th>\n",
       "      <th></th>\n",
       "      <th></th>\n",
       "    </tr>\n",
       "  </thead>\n",
       "  <tbody>\n",
       "    <tr>\n",
       "      <th>84848</th>\n",
       "      <td>7000457643</td>\n",
       "      <td>236.30</td>\n",
       "      <td>-34.84</td>\n",
       "      <td>12.10</td>\n",
       "      <td>91.98</td>\n",
       "      <td>0.00</td>\n",
       "      <td>0.00</td>\n",
       "      <td>51.89</td>\n",
       "      <td>24.51</td>\n",
       "      <td>20.16</td>\n",
       "      <td>0.00</td>\n",
       "      <td>0.00</td>\n",
       "      <td>0.00</td>\n",
       "      <td>31.63</td>\n",
       "      <td>24.51</td>\n",
       "      <td>20.16</td>\n",
       "      <td>112.24</td>\n",
       "      <td>0.00</td>\n",
       "      <td>0.00</td>\n",
       "      <td>41.54</td>\n",
       "      <td>0.00</td>\n",
       "      <td>0.00</td>\n",
       "      <td>5</td>\n",
       "      <td>8</td>\n",
       "      <td>2</td>\n",
       "      <td>0</td>\n",
       "      <td>200</td>\n",
       "      <td>0</td>\n",
       "      <td>0.00</td>\n",
       "      <td>0.00</td>\n",
       "      <td>0.00</td>\n",
       "      <td>0.00</td>\n",
       "      <td>0.00</td>\n",
       "      <td>0.00</td>\n",
       "      <td>17.40</td>\n",
       "      <td>1</td>\n",
       "      <td>29</td>\n",
       "      <td>15</td>\n",
       "      <td>23</td>\n",
       "      <td>20</td>\n",
       "      <td>21</td>\n",
       "      <td>1</td>\n",
       "      <td>14.00</td>\n",
       "      <td>1.00</td>\n",
       "      <td>11.00</td>\n",
       "      <td>60.00</td>\n",
       "      <td>60.00</td>\n",
       "      <td>60.00</td>\n",
       "      <td>0.00</td>\n",
       "      <td>0.00</td>\n",
       "      <td>0.00</td>\n",
       "      <td>3</td>\n",
       "    </tr>\n",
       "    <tr>\n",
       "      <th>17312</th>\n",
       "      <td>7000358270</td>\n",
       "      <td>1458.67</td>\n",
       "      <td>1228.95</td>\n",
       "      <td>1066.71</td>\n",
       "      <td>612.48</td>\n",
       "      <td>528.89</td>\n",
       "      <td>664.36</td>\n",
       "      <td>1133.36</td>\n",
       "      <td>886.24</td>\n",
       "      <td>475.01</td>\n",
       "      <td>0.00</td>\n",
       "      <td>0.00</td>\n",
       "      <td>0.00</td>\n",
       "      <td>0.00</td>\n",
       "      <td>0.00</td>\n",
       "      <td>0.00</td>\n",
       "      <td>1745.84</td>\n",
       "      <td>1415.14</td>\n",
       "      <td>1139.38</td>\n",
       "      <td>139.56</td>\n",
       "      <td>190.66</td>\n",
       "      <td>174.28</td>\n",
       "      <td>20</td>\n",
       "      <td>20</td>\n",
       "      <td>20</td>\n",
       "      <td>1690</td>\n",
       "      <td>1540</td>\n",
       "      <td>1140</td>\n",
       "      <td>0.00</td>\n",
       "      <td>0.00</td>\n",
       "      <td>0.00</td>\n",
       "      <td>0.00</td>\n",
       "      <td>0.00</td>\n",
       "      <td>0.00</td>\n",
       "      <td>14.00</td>\n",
       "      <td>28</td>\n",
       "      <td>10</td>\n",
       "      <td>24</td>\n",
       "      <td>2</td>\n",
       "      <td>14</td>\n",
       "      <td>16</td>\n",
       "      <td>0</td>\n",
       "      <td>3.00</td>\n",
       "      <td>1.00</td>\n",
       "      <td>0.00</td>\n",
       "      <td>60.00</td>\n",
       "      <td>60.00</td>\n",
       "      <td>60.00</td>\n",
       "      <td>0.00</td>\n",
       "      <td>0.00</td>\n",
       "      <td>0.00</td>\n",
       "      <td>1</td>\n",
       "    </tr>\n",
       "    <tr>\n",
       "      <th>9543</th>\n",
       "      <td>7002018260</td>\n",
       "      <td>792.93</td>\n",
       "      <td>737.75</td>\n",
       "      <td>989.00</td>\n",
       "      <td>675.19</td>\n",
       "      <td>988.23</td>\n",
       "      <td>347.06</td>\n",
       "      <td>424.44</td>\n",
       "      <td>450.69</td>\n",
       "      <td>368.41</td>\n",
       "      <td>0.00</td>\n",
       "      <td>0.00</td>\n",
       "      <td>187.98</td>\n",
       "      <td>0.00</td>\n",
       "      <td>0.00</td>\n",
       "      <td>311.44</td>\n",
       "      <td>1099.64</td>\n",
       "      <td>1438.93</td>\n",
       "      <td>404.03</td>\n",
       "      <td>154.63</td>\n",
       "      <td>121.79</td>\n",
       "      <td>47.89</td>\n",
       "      <td>8</td>\n",
       "      <td>15</td>\n",
       "      <td>4</td>\n",
       "      <td>1065</td>\n",
       "      <td>1340</td>\n",
       "      <td>435</td>\n",
       "      <td>2.00</td>\n",
       "      <td>1.00</td>\n",
       "      <td>1.00</td>\n",
       "      <td>121.00</td>\n",
       "      <td>23.00</td>\n",
       "      <td>198.00</td>\n",
       "      <td>14.50</td>\n",
       "      <td>13</td>\n",
       "      <td>28</td>\n",
       "      <td>20</td>\n",
       "      <td>14</td>\n",
       "      <td>2</td>\n",
       "      <td>14</td>\n",
       "      <td>0</td>\n",
       "      <td>1.00</td>\n",
       "      <td>0.00</td>\n",
       "      <td>0.00</td>\n",
       "      <td>1.00</td>\n",
       "      <td>24.00</td>\n",
       "      <td>26.00</td>\n",
       "      <td>0.50</td>\n",
       "      <td>518.76</td>\n",
       "      <td>0.50</td>\n",
       "      <td>2</td>\n",
       "    </tr>\n",
       "    <tr>\n",
       "      <th>16147</th>\n",
       "      <td>7001310138</td>\n",
       "      <td>669.20</td>\n",
       "      <td>770.72</td>\n",
       "      <td>860.42</td>\n",
       "      <td>42.28</td>\n",
       "      <td>25.91</td>\n",
       "      <td>22.19</td>\n",
       "      <td>377.84</td>\n",
       "      <td>617.39</td>\n",
       "      <td>1136.06</td>\n",
       "      <td>26.43</td>\n",
       "      <td>0.00</td>\n",
       "      <td>0.00</td>\n",
       "      <td>127.54</td>\n",
       "      <td>0.00</td>\n",
       "      <td>0.00</td>\n",
       "      <td>292.58</td>\n",
       "      <td>643.31</td>\n",
       "      <td>1158.26</td>\n",
       "      <td>151.83</td>\n",
       "      <td>196.39</td>\n",
       "      <td>278.58</td>\n",
       "      <td>10</td>\n",
       "      <td>10</td>\n",
       "      <td>12</td>\n",
       "      <td>894</td>\n",
       "      <td>817</td>\n",
       "      <td>1006</td>\n",
       "      <td>2.00</td>\n",
       "      <td>3.00</td>\n",
       "      <td>2.00</td>\n",
       "      <td>308.00</td>\n",
       "      <td>556.00</td>\n",
       "      <td>406.00</td>\n",
       "      <td>20.67</td>\n",
       "      <td>36</td>\n",
       "      <td>14</td>\n",
       "      <td>0</td>\n",
       "      <td>31</td>\n",
       "      <td>6</td>\n",
       "      <td>2</td>\n",
       "      <td>0</td>\n",
       "      <td>0.00</td>\n",
       "      <td>0.00</td>\n",
       "      <td>3.00</td>\n",
       "      <td>6.00</td>\n",
       "      <td>6.00</td>\n",
       "      <td>3.00</td>\n",
       "      <td>1.00</td>\n",
       "      <td>1179.22</td>\n",
       "      <td>1.00</td>\n",
       "      <td>2</td>\n",
       "    </tr>\n",
       "    <tr>\n",
       "      <th>38363</th>\n",
       "      <td>7001389270</td>\n",
       "      <td>1679.02</td>\n",
       "      <td>2171.11</td>\n",
       "      <td>2204.04</td>\n",
       "      <td>10.03</td>\n",
       "      <td>5.09</td>\n",
       "      <td>1.13</td>\n",
       "      <td>318.26</td>\n",
       "      <td>225.96</td>\n",
       "      <td>312.59</td>\n",
       "      <td>0.00</td>\n",
       "      <td>0.00</td>\n",
       "      <td>0.00</td>\n",
       "      <td>0.00</td>\n",
       "      <td>0.00</td>\n",
       "      <td>0.00</td>\n",
       "      <td>335.44</td>\n",
       "      <td>233.84</td>\n",
       "      <td>314.96</td>\n",
       "      <td>405.73</td>\n",
       "      <td>388.16</td>\n",
       "      <td>375.43</td>\n",
       "      <td>21</td>\n",
       "      <td>24</td>\n",
       "      <td>23</td>\n",
       "      <td>1953</td>\n",
       "      <td>2599</td>\n",
       "      <td>2547</td>\n",
       "      <td>11.00</td>\n",
       "      <td>13.00</td>\n",
       "      <td>7.00</td>\n",
       "      <td>1613.00</td>\n",
       "      <td>2271.00</td>\n",
       "      <td>2097.00</td>\n",
       "      <td>45.50</td>\n",
       "      <td>22</td>\n",
       "      <td>27</td>\n",
       "      <td>5</td>\n",
       "      <td>36</td>\n",
       "      <td>6</td>\n",
       "      <td>22</td>\n",
       "      <td>0</td>\n",
       "      <td>0.00</td>\n",
       "      <td>0.00</td>\n",
       "      <td>2.00</td>\n",
       "      <td>0.00</td>\n",
       "      <td>0.00</td>\n",
       "      <td>2.00</td>\n",
       "      <td>3.50</td>\n",
       "      <td>5384.47</td>\n",
       "      <td>3.50</td>\n",
       "      <td>2</td>\n",
       "    </tr>\n",
       "  </tbody>\n",
       "</table>\n",
       "</div>"
      ],
      "text/plain": [
       "       mobile_number  arpu_6  arpu_7  arpu_8  onnet_mou_6  onnet_mou_7  onnet_mou_8  offnet_mou_6  offnet_mou_7  offnet_mou_8  roam_ic_mou_6  roam_ic_mou_7  roam_ic_mou_8  roam_og_mou_6  roam_og_mou_7  roam_og_mou_8  total_og_mou_6  total_og_mou_7  total_og_mou_8  total_ic_mou_6  total_ic_mou_7  total_ic_mou_8  total_rech_num_6  total_rech_num_7  total_rech_num_8  total_rech_amt_6  total_rech_amt_7  total_rech_amt_8  total_rech_data_6  total_rech_data_7  total_rech_data_8  av_rech_amt_data_6  av_rech_amt_data_7  av_rech_amt_data_8   aon  sms_ic_6  sms_ic_7  sms_ic_8  sms_og_6  sms_og_7  sms_og_8  churn  days_since_last_rech_6  days_since_last_rech_7  days_since_last_rech_8  days_since_last_rech_data_6  days_since_last_rech_data_7  days_since_last_rech_data_8  count_2g3g  vol_2g3g  monthly_2g3g  segment\n",
       "index                                                                                                                                                                                                                                                                                                                                                                                                                                                                                                                                                                                                                                                                                                                                                                                                                                        \n",
       "84848     7000457643  236.30  -34.84   12.10        91.98         0.00         0.00         51.89         24.51         20.16           0.00           0.00           0.00          31.63          24.51          20.16          112.24            0.00            0.00           41.54            0.00            0.00                 5                 8                 2                 0               200                 0               0.00               0.00               0.00                0.00                0.00                0.00 17.40         1        29        15        23        20        21      1                   14.00                    1.00                   11.00                        60.00                        60.00                        60.00        0.00      0.00          0.00        3\n",
       "17312     7000358270 1458.67 1228.95 1066.71       612.48       528.89       664.36       1133.36        886.24        475.01           0.00           0.00           0.00           0.00           0.00           0.00         1745.84         1415.14         1139.38          139.56          190.66          174.28                20                20                20              1690              1540              1140               0.00               0.00               0.00                0.00                0.00                0.00 14.00        28        10        24         2        14        16      0                    3.00                    1.00                    0.00                        60.00                        60.00                        60.00        0.00      0.00          0.00        1\n",
       "9543      7002018260  792.93  737.75  989.00       675.19       988.23       347.06        424.44        450.69        368.41           0.00           0.00         187.98           0.00           0.00         311.44         1099.64         1438.93          404.03          154.63          121.79           47.89                 8                15                 4              1065              1340               435               2.00               1.00               1.00              121.00               23.00              198.00 14.50        13        28        20        14         2        14      0                    1.00                    0.00                    0.00                         1.00                        24.00                        26.00        0.50    518.76          0.50        2\n",
       "16147     7001310138  669.20  770.72  860.42        42.28        25.91        22.19        377.84        617.39       1136.06          26.43           0.00           0.00         127.54           0.00           0.00          292.58          643.31         1158.26          151.83          196.39          278.58                10                10                12               894               817              1006               2.00               3.00               2.00              308.00              556.00              406.00 20.67        36        14         0        31         6         2      0                    0.00                    0.00                    3.00                         6.00                         6.00                         3.00        1.00   1179.22          1.00        2\n",
       "38363     7001389270 1679.02 2171.11 2204.04        10.03         5.09         1.13        318.26        225.96        312.59           0.00           0.00           0.00           0.00           0.00           0.00          335.44          233.84          314.96          405.73          388.16          375.43                21                24                23              1953              2599              2547              11.00              13.00               7.00             1613.00             2271.00             2097.00 45.50        22        27         5        36         6        22      0                    0.00                    0.00                    2.00                         0.00                         0.00                         2.00        3.50   5384.47          3.50        2"
      ]
     },
     "execution_count": 4,
     "metadata": {
      "tags": []
     },
     "output_type": "execute_result"
    }
   ],
   "source": [
    "print(df.shape)\n",
    "df.head()"
   ]
  },
  {
   "cell_type": "markdown",
   "metadata": {
    "id": "1om1AhzooOK0"
   },
   "source": [
    "### Export data"
   ]
  },
  {
   "cell_type": "code",
   "execution_count": null,
   "metadata": {
    "id": "DB_5bBhQmmw5"
   },
   "outputs": [],
   "source": [
    "allCol = df.columns.values\n",
    "np.savetxt(\"AllColumns.csv\", allCol, fmt=\"%5s\",delimiter=\",\")"
   ]
  },
  {
   "cell_type": "code",
   "execution_count": null,
   "metadata": {
    "id": "vGGGLL2Kndm3"
   },
   "outputs": [],
   "source": [
    "seg1 = df[df[\"segment\"]==1].iloc[:5,:]\n",
    "seg2 = df[df[\"segment\"]==2].iloc[:5,:]\n",
    "seg3 = df[df[\"segment\"]==3].iloc[:5,:]\n",
    "segs = pd.concat([seg1,seg2,seg3],axis=0)"
   ]
  },
  {
   "cell_type": "code",
   "execution_count": null,
   "metadata": {
    "id": "ThSsqKLfm0Uz"
   },
   "outputs": [],
   "source": [
    "segs.to_csv(\"clustered_dataset_sample.csv\", index=False)"
   ]
  },
  {
   "cell_type": "markdown",
   "metadata": {
    "id": "7DhTf6oIUP4I"
   },
   "source": [
    "## Data Exploration"
   ]
  },
  {
   "cell_type": "markdown",
   "metadata": {
    "id": "wB8-9d6xUXug"
   },
   "source": [
    "#### Churn vs non Churn"
   ]
  },
  {
   "cell_type": "code",
   "execution_count": null,
   "metadata": {
    "colab": {
     "base_uri": "https://localhost:8080/",
     "height": 319
    },
    "id": "8D4uzv9lUThT",
    "outputId": "59331450-fdad-429f-b38b-df823a1ef1e2"
   },
   "outputs": [
    {
     "data": {
      "image/png": "[encoded data removed]",
      "text/plain": [
       "<Figure size 504x360 with 1 Axes>"
      ]
     },
     "metadata": {
      "tags": []
     },
     "output_type": "display_data"
    }
   ],
   "source": [
    "churn_values = list(df['churn'].value_counts())\n",
    "lab = ['Non Churn', 'Churn']\n",
    "plt.figure(figsize = (7,5))\n",
    "plt.pie(churn_values, labels = lab, explode = (0.1, 0), autopct = \"%.2f%%\")\n",
    "plt.title('Customer Churn Distribution')\n",
    "plt.show()"
   ]
  },
  {
   "cell_type": "code",
   "execution_count": null,
   "metadata": {
    "colab": {
     "base_uri": "https://localhost:8080/",
     "height": 244
    },
    "id": "AEp-b44ZgkMC",
    "outputId": "b67a7f23-8a64-43b1-aabe-30c7c61ac544"
   },
   "outputs": [
    {
     "data": {
      "image/png": "[encoded data removed]",
      "text/plain": [
       "<Figure size 864x504 with 3 Axes>"
      ]
     },
     "metadata": {
      "tags": []
     },
     "output_type": "display_data"
    }
   ],
   "source": [
    "dis = df[[\"segment\",\"churn\",\"mobile_number\"]].groupby([\"segment\",\"churn\"]).count()\n",
    "\n",
    "fig, axes= plt.subplots(1,3, figsize=(12,7))\n",
    "for i, ax in enumerate(axes.flatten()):\n",
    "    ax.pie(dis.loc[i+1],\n",
    "       autopct=\"%1.1f%%\",\n",
    "       radius = 1,\n",
    "       labels= lab)\n",
    "    ax.set_title(\"Cluster {0}\".format(dis.index[i*2][0]))\n",
    "\n",
    "plt.show()"
   ]
  },
  {
   "cell_type": "markdown",
   "metadata": {
    "id": "NQnQG4AtUuRs"
   },
   "source": [
    "#### Churn / AON"
   ]
  },
  {
   "cell_type": "code",
   "execution_count": null,
   "metadata": {
    "colab": {
     "base_uri": "https://localhost:8080/",
     "height": 464
    },
    "id": "4gVkproMUxZK",
    "outputId": "b82a6504-b92d-4a26-ccbb-364e74f734ee"
   },
   "outputs": [
    {
     "data": {
      "image/png": "[encoded data removed]",
      "text/plain": [
       "<Figure size 864x504 with 1 Axes>"
      ]
     },
     "metadata": {
      "needs_background": "light",
      "tags": []
     },
     "output_type": "display_data"
    }
   ],
   "source": [
    "ten_range = [6,12,24,60,150]\n",
    "lab = ['6-12 months', '1-2 years', '2-5 years', '5 years & above']\n",
    "tenure_range = pd.cut(df['aon'], [6,12,24,60,150], labels = lab)\n",
    "\n",
    "plt.figure(figsize =(12,7))\n",
    "count = sns.countplot(tenure_range, hue = df['churn'])\n",
    "for x in count.patches:\n",
    "    count.annotate(format(x.get_height(), '.2f'),(x.get_x() + x.get_width()/2., x.get_height()), ha = 'center', va = 'center',xytext = (0,6), textcoords = 'offset points' )\n",
    "plt.xlabel('Tenure')\n",
    "plt.ylabel('No of customers')\n",
    "plt.title('Customer Distribution')\n",
    "plt.show()"
   ]
  },
  {
   "cell_type": "markdown",
   "metadata": {
    "id": "_ARgAAapUc5d"
   },
   "source": [
    "#### Data Correlation"
   ]
  },
  {
   "cell_type": "code",
   "execution_count": null,
   "metadata": {
    "colab": {
     "base_uri": "https://localhost:8080/",
     "height": 536
    },
    "id": "8CKINXgQUjaQ",
    "outputId": "94267a3b-1d8a-4813-8965-dad08a8eeedd"
   },
   "outputs": [
    {
     "data": {
      "text/plain": [
       "<matplotlib.axes._subplots.AxesSubplot at 0x7f077b3185c0>"
      ]
     },
     "execution_count": 8,
     "metadata": {
      "tags": []
     },
     "output_type": "execute_result"
    },
    {
     "data": {
      "image/png": "[encoded data removed]",
      "text/plain": [
       "<Figure size 2016x504 with 1 Axes>"
      ]
     },
     "metadata": {
      "needs_background": "light",
      "tags": []
     },
     "output_type": "display_data"
    }
   ],
   "source": [
    "## Correlation with churn column\n",
    "corr = df.corr()['churn'].sort_values(ascending = False)\n",
    "corr.drop(['churn'],inplace=True)\n",
    "plt.figure(figsize = (28,7))\n",
    "corr.plot(kind = 'bar')"
   ]
  },
  {
   "cell_type": "markdown",
   "metadata": {
    "id": "kKjCvFvGGUwc"
   },
   "source": [
    "# Modeling "
   ]
  },
  {
   "cell_type": "code",
   "execution_count": null,
   "metadata": {
    "colab": {
     "base_uri": "https://localhost:8080/",
     "height": 1000,
     "referenced_widgets": [
      "dcc1fcf332834a7eb6c3bb9902f2678b",
      "03dd3110a9d04d249f8cfdf5971306ff",
      "10ed8326c5564d42aea5803d1855f8b5",
      "563867b11bf24f3eadc2e9e8acd5ecee",
      "724929df095342a293f58010bb7d2842",
      "1a522baa51b04fffb1b5cb1fba5e1fa5",
      "65e72bcae27744719033c291b84732c5",
      "8378a077799743b982521920a5fc35ec",
      "24ed397f8ec3437ea94649b0e3896fe6",
      "b9d8d2ff19fb4ed8ae987dd10643131b",
      "2e8fba449297417daa1d1eb38104fb34",
      "ff06b19310cb42a5b324f21e960a0ecd",
      "5102afed67e44f129bcface7cc44b57a",
      "c58acd3e295f48e58cdaee7c041dd0d8",
      "73ee246dd90244f0aaa66fb42c27a26d",
      "09d7ba6df3d74739b71cb1cb3cbce05e",
      "8796233d004e4a0ab009773265f0ea02",
      "7cdfe65fe90640a8aea3f1e5ae18b49e",
      "3415b1e28dde4ada865bec5cdde8d2c0",
      "c938daa6e55847029e7b817156b0e2cf",
      "466149c421304d3a8ebdf61c74587865",
      "1e1e8f6e6c0d44f39877923d7f44800f",
      "df10c8f18d26410aafe3b9d76784deb0",
      "b862699870e24fbd838c0638d5de379c"
     ]
    },
    "id": "LqCzxdgPGihQ",
    "outputId": "e81e1277-da9f-436f-da42-cb98a6088973"
   },
   "outputs": [
    {
     "name": "stdout",
     "output_type": "stream",
     "text": [
      "----------\n",
      "- segment n°3\n",
      "- Churners : (19814, 50)\n",
      "- Non Churners : (4615, 50)\n",
      "X_train Shape :  (17099, 49)\n",
      "X_test Shape :  (7330, 49)\n",
      "Imbalance in Train Data :  0.23289350349700771\n",
      "Imbalance in Test Data :  0.23296888141295205\n"
     ]
    },
    {
     "data": {
      "application/vnd.jupyter.widget-view+json": {
       "model_id": "dcc1fcf332834a7eb6c3bb9902f2678b",
       "version_major": 2,
       "version_minor": 0
      },
      "text/plain": [
       "HBox(children=(FloatProgress(value=0.0, description='Optimization Progress', max=200.0, style=ProgressStyle(de…"
      ]
     },
     "metadata": {
      "tags": []
     },
     "output_type": "display_data"
    },
    {
     "name": "stdout",
     "output_type": "stream",
     "text": [
      "\n",
      "Generation 1 - Current best internal CV score: 0.9326864836850828\r\n",
      "Best pipeline: KNeighborsClassifier(PCA(VarianceThreshold(input_matrix, threshold=0.0005), iterated_power=10, svd_solver=randomized), n_neighbors=21, p=1, weights=distance)\n",
      "Test Accuracy score 0.9368349249658936\n",
      "              precision    recall  f1-score   support\n",
      "\n",
      "           0       0.93      0.99      0.96      5945\n",
      "           1       0.95      0.70      0.81      1385\n",
      "\n",
      "    accuracy                           0.94      7330\n",
      "   macro avg       0.94      0.85      0.88      7330\n",
      "weighted avg       0.94      0.94      0.93      7330\n",
      "\n",
      "[[5898   47]\n",
      " [ 416  969]]\n",
      "-------------\n",
      "Time:  1383.5989885339995\n",
      "\n",
      "_______________________________________________________________________\n",
      "\n",
      "\n",
      "\n",
      "----------\n",
      "- segment n°1\n",
      "- Churners : (4757, 50)\n",
      "- Non Churners : (329, 50)\n",
      "X_train Shape :  (3559, 49)\n",
      "X_test Shape :  (1527, 49)\n",
      "Imbalance in Train Data :  0.06908981676179032\n",
      "Imbalance in Test Data :  0.06932773109243698\n"
     ]
    },
    {
     "data": {
      "application/vnd.jupyter.widget-view+json": {
       "model_id": "24ed397f8ec3437ea94649b0e3896fe6",
       "version_major": 2,
       "version_minor": 0
      },
      "text/plain": [
       "HBox(children=(FloatProgress(value=0.0, description='Optimization Progress', max=200.0, style=ProgressStyle(de…"
      ]
     },
     "metadata": {
      "tags": []
     },
     "output_type": "display_data"
    },
    {
     "name": "stdout",
     "output_type": "stream",
     "text": [
      "\n",
      "Generation 1 - Current best internal CV score: 0.9429597496799886\r\n",
      "Best pipeline: DecisionTreeClassifier(MaxAbsScaler(SelectPercentile(input_matrix, percentile=40)), criterion=gini, max_depth=4, min_samples_leaf=8, min_samples_split=16)\n",
      "Test Accuracy score 0.9358218729535036\n",
      "              precision    recall  f1-score   support\n",
      "\n",
      "           0       0.95      0.98      0.97      1428\n",
      "           1       0.51      0.25      0.34        99\n",
      "\n",
      "    accuracy                           0.94      1527\n",
      "   macro avg       0.73      0.62      0.65      1527\n",
      "weighted avg       0.92      0.94      0.93      1527\n",
      "\n",
      "[[1404   24]\n",
      " [  74   25]]\n",
      "-------------\n",
      "Time:  108.85183136600062\n",
      "\n",
      "_______________________________________________________________________\n",
      "\n",
      "\n",
      "\n",
      "----------\n",
      "- segment n°2\n",
      "- Churners : (9020, 50)\n",
      "- Non Churners : (209, 50)\n",
      "X_train Shape :  (6460, 49)\n",
      "X_test Shape :  (2769, 49)\n",
      "Imbalance in Train Data :  0.023123218245169466\n",
      "Imbalance in Test Data :  0.02328159645232816\n"
     ]
    },
    {
     "data": {
      "application/vnd.jupyter.widget-view+json": {
       "model_id": "8796233d004e4a0ab009773265f0ea02",
       "version_major": 2,
       "version_minor": 0
      },
      "text/plain": [
       "HBox(children=(FloatProgress(value=0.0, description='Optimization Progress', max=200.0, style=ProgressStyle(de…"
      ]
     },
     "metadata": {
      "tags": []
     },
     "output_type": "display_data"
    },
    {
     "name": "stdout",
     "output_type": "stream",
     "text": [
      "\n",
      "Generation 1 - Current best internal CV score: 0.9814241486068112\r\n",
      "Best pipeline: DecisionTreeClassifier(FeatureAgglomeration(VarianceThreshold(input_matrix, threshold=0.1), affinity=manhattan, linkage=average), criterion=gini, max_depth=2, min_samples_leaf=15, min_samples_split=8)\n",
      "Test Accuracy score 0.9823040808956301\n",
      "              precision    recall  f1-score   support\n",
      "\n",
      "           0       0.98      1.00      0.99      2706\n",
      "           1       0.89      0.25      0.40        63\n",
      "\n",
      "    accuracy                           0.98      2769\n",
      "   macro avg       0.94      0.63      0.69      2769\n",
      "weighted avg       0.98      0.98      0.98      2769\n",
      "\n",
      "[[2704    2]\n",
      " [  47   16]]\n",
      "-------------\n",
      "Time:  255.4638500789997\n",
      "\n",
      "_______________________________________________________________________\n",
      "\n",
      "\n",
      "\n"
     ]
    }
   ],
   "source": [
    "from tpot import TPOTClassifier\n",
    "\n",
    "\n",
    "for i,_df in enumerate(segments_data):\n",
    "\n",
    "  start = timeit.default_timer()\n",
    "\n",
    "  seg_num = _df['segment'].unique()[0]\n",
    "  print(\"----------\\n- segment n°{0}\".format(seg_num))\n",
    "  #if seg_num==1:\n",
    "\n",
    "  # drop irrelevent columns\n",
    "  _dfM = _df.drop(['mobile_number','segment'], axis=1)\n",
    "\n",
    "  ### Split data to train/test data\n",
    "  _dfM1 = _dfM[_dfM.churn==0]\n",
    "  _dfM2 = _dfM[_dfM.churn==1]\n",
    "  print(\"- Churners :\",_dfM1.shape)\n",
    "  print(\"- Non Churners :\",_dfM2.shape)\n",
    "\n",
    "  # split dataset to 70% Train data & 30% test data\n",
    "  X_train1, X_test1 = train_test_split(_dfM1, test_size=0.3, train_size=0.7, random_state=1)\n",
    "  X_train2, X_test2 = train_test_split(_dfM2, test_size=0.3, train_size=0.7, random_state=1)\n",
    "  train = pd.concat([X_train1,X_train2],axis=0).sample(frac=1)\n",
    "  test= pd.concat([X_test1,X_test2],axis=0).sample(frac=1)\n",
    "\n",
    "\n",
    "  X_train = train.drop(['churn'], axis=1)\n",
    "  y_train = train['churn']\n",
    "  X_test = test.drop(['churn'], axis=1)\n",
    "  y_test = test['churn']\n",
    "  \n",
    "  X_test.to_csv(\"test_seg{0}_Xtest.csv\".format(seg_num), index=False)\n",
    "  y_test.to_csv(\"test_seg{0}_Ytest.csv\".format(seg_num), index=False)\n",
    "  \n",
    "  print(\"X_train Shape : \", X_train.shape)\n",
    "  print(\"X_test Shape : \", X_test.shape)\n",
    "  print(\"Imbalance in Train Data : \", (y_train != 0).sum()/(y_train == 0).sum())\n",
    "  print(\"Imbalance in Test Data : \", (y_test != 0).sum()/(y_test == 0).sum())\n",
    "\n",
    "  # Train model\n",
    "  model = TPOTClassifier(\n",
    "                          config_dict='TPOT light',\n",
    "                          memory='auto',\n",
    "                          template='Selector-Transformer-Classifier',\n",
    "                          scoring='accuracy',\n",
    "                          generations=1,\n",
    "                          #max_time_mins=30,\n",
    "                          #max_eval_time_mins=3,\n",
    "                          verbosity=2\n",
    "                          )\n",
    "  model.fit(X_train, y_train)\n",
    "\n",
    "  # Evaluate model\n",
    "  y_pred = model.predict(X_test)\n",
    "  test_acc = model.score(X_test, y_test)\n",
    "  print(\"Test Accuracy score {0}\".format(test_acc))\n",
    "  print(classification_report(y_test, y_pred))\n",
    "  print(confusion_matrix(y_test, y_pred))\n",
    "\n",
    "  #calculate time\n",
    "  print('-------------')\n",
    "  stop = timeit.default_timer()\n",
    "  print('Time: ', stop - start)  \n",
    "\n",
    "  # Export model\n",
    "  model.export('test_tpot_exported_pipeline{0}.py'.format(seg_num))\n",
    "  pickle.dump(model.fitted_pipeline_,open('test_tpot_exported_model{0}.pickle'.format(seg_num),\"wb\"))\n",
    "  print(\"\\n_______________________________________________________________________\\n\\n\\n\")\n",
    "  model = 0\n"
   ]
  },
  {
   "cell_type": "code",
   "execution_count": null,
   "metadata": {
    "colab": {
     "base_uri": "https://localhost:8080/",
     "height": 513,
     "referenced_widgets": [
      "9b21c57d2b944de28d33d1aa343fa5b3",
      "af2a2670a59343a391b05a957ef7ad3e",
      "8ae3a441a94e42528ecf2c2c24f56b0b",
      "a24b6586999a4f43b90be8273fa853d4",
      "7eb8fc37e9ec47c29f2822cf272ac102",
      "6e53388eb3d94c27ba0e35f2a53fd370",
      "d57b14a56be04df38f130300015b6fc2",
      "8b4ad36dd0414a3f86915410a97fc444"
     ]
    },
    "id": "9-93zMiaWqCO",
    "outputId": "f4d8f689-b661-4a7f-f8a0-ee91fb42cc48"
   },
   "outputs": [
    {
     "name": "stdout",
     "output_type": "stream",
     "text": [
      "Before balancing :  (38744, 52)\n",
      "After balancing : (35317, 50)\n",
      "- Non Churners : (30617, 50)\n",
      "- Churners (4700, 50)\n",
      "X_train Shape :  (24721, 49)\n",
      "X_test Shape :  (10596, 49)\n"
     ]
    },
    {
     "data": {
      "application/vnd.jupyter.widget-view+json": {
       "model_id": "9b21c57d2b944de28d33d1aa343fa5b3",
       "version_major": 2,
       "version_minor": 0
      },
      "text/plain": [
       "HBox(children=(FloatProgress(value=0.0, description='Optimization Progress', max=200.0, style=ProgressStyle(de…"
      ]
     },
     "metadata": {
      "tags": []
     },
     "output_type": "display_data"
    },
    {
     "name": "stdout",
     "output_type": "stream",
     "text": [
      "\n",
      "Generation 1 - Current best internal CV score: 0.9456736152695836\r\n",
      "Best pipeline: DecisionTreeClassifier(MaxAbsScaler(VarianceThreshold(input_matrix, threshold=0.2)), criterion=entropy, max_depth=6, min_samples_leaf=11, min_samples_split=4)\n",
      "0.9429029822574556\n",
      "\n",
      "0.9429029822574556\n",
      "_______________________________________________________________________\n",
      "\n",
      "              precision    recall  f1-score   support\n",
      "\n",
      "           0       0.95      0.98      0.97      9186\n",
      "           1       0.86      0.68      0.76      1410\n",
      "\n",
      "    accuracy                           0.94     10596\n",
      "   macro avg       0.91      0.83      0.86     10596\n",
      "weighted avg       0.94      0.94      0.94     10596\n",
      "\n",
      "[[9034  152]\n",
      " [ 453  957]]\n",
      "Test Accuracy score 0.9429029822574556\n",
      "-------------\n",
      "Time:  2145.59855636\n"
     ]
    }
   ],
   "source": [
    "from tpot import TPOTClassifier\n",
    "\n",
    "df_all = df.copy()\n",
    "\n",
    "start = timeit.default_timer()\n",
    "\n",
    "print(\"Before balancing : \",df_all.shape)\n",
    "\n",
    "_df = df_all.drop(['mobile_number','segment'], axis=1)\n",
    "\n",
    "### Split data to train/test data\n",
    "for i in range(1,10000):\n",
    "  if i in _df.index:\n",
    "    if (_df.iloc[i].churn==0):\n",
    "      _df= _df.drop(i,axis=0)\n",
    "\n",
    "print(\"After balancing :\",_df.shape)\n",
    "\n",
    "\n",
    "### Split data to train/test data\n",
    "_dfM1 = _df[_df.churn==0]\n",
    "_dfM2 = _df[_df.churn==1]\n",
    "print(\"- Non Churners :\",_dfM1.shape)\n",
    "print(\"- Churners\",_dfM2.shape)\n",
    "\n",
    "\n",
    "X_train1, X_test1 = train_test_split(_dfM1, test_size=0.3, train_size=0.7, random_state=1)\n",
    "X_train2, X_test2 = train_test_split(_dfM2, test_size=0.3, train_size=0.7, random_state=1)\n",
    "train = pd.concat([X_train1,X_train2],axis=0).sample(frac=1)\n",
    "test= pd.concat([X_test1,X_test2],axis=0).sample(frac=1)\n",
    "\n",
    "X_train = train.drop(['churn'], axis=1)\n",
    "y_train = train['churn']\n",
    "X_test = test.drop(['churn'], axis=1)\n",
    "y_test = test['churn']\n",
    "\n",
    "print(\"X_train Shape : \", X_train.shape)\n",
    "print(\"X_test Shape : \", X_test.shape)\n",
    "\n",
    "model = TPOTClassifier(\n",
    "                      config_dict='TPOT light',\n",
    "                      memory='auto',\n",
    "                      template='Selector-Transformer-Classifier',\n",
    "                      scoring='accuracy',\n",
    "                      generations=1,\n",
    "                      verbosity=2\n",
    "                      )\n",
    "model.fit(X_train, y_train)\n",
    "print(model.score(X_test, y_test))\n",
    "print( )\n",
    "print(model.score(X_test, y_test))\n",
    "print(\"_______________________________________________________________________\")\n",
    "print( )\n",
    "\n",
    "# The evaluation metrics of our default model\n",
    "y_pred = model.predict(X_test)\n",
    "\n",
    "# Printing classification report\n",
    "print(classification_report(y_test, y_pred))\n",
    "print(confusion_matrix(y_test, y_pred))\n",
    "\n",
    "# other context\n",
    "test_acc = accuracy_score(y_test, y_pred)\n",
    "print(\"Test Accuracy score {0}\".format(test_acc))\n",
    "\n",
    "\n",
    "#calculate time\n",
    "print('-------------')\n",
    "stop = timeit.default_timer()\n",
    "print('Time: ', stop - start)  "
   ]
  },
  {
   "cell_type": "markdown",
   "metadata": {
    "id": "zBrrpNvvfdP4"
   },
   "source": [
    "# Modeling with Clustering"
   ]
  },
  {
   "cell_type": "markdown",
   "metadata": {
    "id": "EWFUNvGNyTu_"
   },
   "source": [
    "### Split data to clusters"
   ]
  },
  {
   "cell_type": "code",
   "execution_count": null,
   "metadata": {
    "id": "LXNnAxc2yYPL"
   },
   "outputs": [],
   "source": [
    "segments_data = []\n",
    "\n",
    "for seg in df['segment'].unique():\n",
    "  segments_data.append(df[df['segment']==seg])\n"
   ]
  },
  {
   "cell_type": "code",
   "execution_count": null,
   "metadata": {
    "colab": {
     "base_uri": "https://localhost:8080/",
     "height": 119
    },
    "id": "iyhILKC7FwqP",
    "outputId": "63485290-d411-4815-a146-edf496abe599"
   },
   "outputs": [
    {
     "name": "stdout",
     "output_type": "stream",
     "text": [
      "segment 2:\n",
      "(9229, 52)\n",
      "segment 1:\n",
      "(5086, 52)\n",
      "segment 3:\n",
      "(24429, 52)\n"
     ]
    }
   ],
   "source": [
    "for seg in reversed(segments_data):\n",
    "  seg_num = seg['segment'].unique()[0]\n",
    "  print('segment {0}:'.format(seg_num))\n",
    "  print(seg.shape)"
   ]
  },
  {
   "cell_type": "markdown",
   "metadata": {
    "id": "tW8fPgYrAFSn"
   },
   "source": [
    "## Modeling"
   ]
  },
  {
   "cell_type": "code",
   "execution_count": null,
   "metadata": {
    "colab": {
     "base_uri": "https://localhost:8080/",
     "height": 712,
     "referenced_widgets": [
      "52061320e54b4a149970ec7f70cc08b8",
      "95450333fe22405fae88dc6e2ae9a1c5",
      "5dba8b548bac42c48c237b6975ec10f8",
      "414cf30ea21e4cd0922dcc35012cdf59",
      "1b892b83834a4b938f87d51e33ff6768",
      "d334363c51984eeab2ecb8d8ad18c22a",
      "2fbcaad905744196a591ee9e98f67f09",
      "d023243dc11b4f2c807ced53dccf1f82"
     ]
    },
    "id": "Zl-S4HiQ7RCF",
    "outputId": "dd463621-2c12-42be-8043-245d5cb22a5e"
   },
   "outputs": [
    {
     "name": "stdout",
     "output_type": "stream",
     "text": [
      "----------\n",
      "- segment n°3\n",
      "- Churners : (19814, 50)\n",
      "- Non Churners : (4615, 50)\n",
      "X_train Shape :  (17099, 49)\n",
      "X_test Shape :  (7330, 49)\n",
      "Imbalance in Train Data :  0.23289350349700771\n",
      "Imbalance in Test Data :  0.23296888141295205\n"
     ]
    },
    {
     "data": {
      "application/vnd.jupyter.widget-view+json": {
       "model_id": "52061320e54b4a149970ec7f70cc08b8",
       "version_major": 2,
       "version_minor": 0
      },
      "text/plain": [
       "HBox(children=(FloatProgress(value=0.0, description='Optimization Progress', style=ProgressStyle(description_w…"
      ]
     },
     "metadata": {
      "tags": []
     },
     "output_type": "display_data"
    },
    {
     "name": "stdout",
     "output_type": "stream",
     "text": [
      "\n",
      "Generation 1 - Current best internal CV score: 0.9329199742067462\n",
      "30.25 minutes have elapsed. TPOT will close down.\n",
      "TPOT closed during evaluation in one generation.\n",
      "WARNING: TPOT may not provide a good pipeline if TPOT is stopped/interrupted in a early generation.\n",
      "\n",
      "\n",
      "TPOT closed prematurely. Will use the current best pipeline.\n",
      "\n",
      "Best pipeline: KNeighborsClassifier(ZeroCount(VarianceThreshold(input_matrix, threshold=0.0001)), n_neighbors=14, p=2, weights=distance)\n",
      "Test Accuracy score 0.9345156889495225\n",
      "              precision    recall  f1-score   support\n",
      "\n",
      "           0       0.94      0.99      0.96      5945\n",
      "           1       0.93      0.71      0.80      1385\n",
      "\n",
      "    accuracy                           0.93      7330\n",
      "   macro avg       0.93      0.85      0.88      7330\n",
      "weighted avg       0.93      0.93      0.93      7330\n",
      "\n",
      "[[5869   76]\n",
      " [ 404  981]]\n",
      "\n",
      "_______________________________________________________________________\n",
      "\n",
      "\n",
      "\n",
      "----------\n",
      "- segment n°1\n",
      "----------\n",
      "- segment n°2\n"
     ]
    }
   ],
   "source": [
    "from tpot import TPOTClassifier\n",
    "\n",
    "\n",
    "for i,_df in enumerate(segments_data):\n",
    "\n",
    "  seg_num = _df['segment'].unique()[0]\n",
    "  print(\"----------\\n- segment n°{0}\".format(seg_num))\n",
    "  if seg_num==3:\n",
    "\n",
    "    # drop irrelevent columns\n",
    "    _dfM = _df.drop(['mobile_number','segment'], axis=1)\n",
    "\n",
    "    ### Split data to train/test data\n",
    "    _dfM1 = _dfM[_dfM.churn==0]\n",
    "    _dfM2 = _dfM[_dfM.churn==1]\n",
    "    print(\"- Churners :\",_dfM1.shape)\n",
    "    print(\"- Non Churners :\",_dfM2.shape)\n",
    "\n",
    "    # split dataset to 70% Train data & 30% test data\n",
    "    X_train1, X_test1 = train_test_split(_dfM1, test_size=0.3, train_size=0.7, random_state=1)\n",
    "    X_train2, X_test2 = train_test_split(_dfM2, test_size=0.3, train_size=0.7, random_state=1)\n",
    "    train = pd.concat([X_train1,X_train2],axis=0).sample(frac=1)\n",
    "    test= pd.concat([X_test1,X_test2],axis=0).sample(frac=1)\n",
    "\n",
    "\n",
    "    X_train = train.drop(['churn'], axis=1)\n",
    "    y_train = train['churn']\n",
    "    X_test = test.drop(['churn'], axis=1)\n",
    "    y_test = test['churn']\n",
    "\n",
    "    X_test.to_csv(\"seg{0}_Xtest.csv\".format(seg_num), index=False)\n",
    "    y_test.to_csv(\"seg{0}_Ytest.csv\".format(seg_num), index=False)\n",
    "\n",
    "    print(\"X_train Shape : \", X_train.shape)\n",
    "    print(\"X_test Shape : \", X_test.shape)\n",
    "    print(\"Imbalance in Train Data : \", (y_train != 0).sum()/(y_train == 0).sum())\n",
    "    print(\"Imbalance in Test Data : \", (y_test != 0).sum()/(y_test == 0).sum())\n",
    "\n",
    "    # Train model\n",
    "    model = TPOTClassifier(\n",
    "                            config_dict='TPOT light',\n",
    "                            memory='auto',\n",
    "                            template='Selector-Transformer-Classifier',\n",
    "                            scoring='accuracy',\n",
    "                            max_time_mins=30,\n",
    "                            max_eval_time_mins=3,\n",
    "                            verbosity=2\n",
    "                            )\n",
    "    model.fit(X_train, y_train)\n",
    "\n",
    "    # Evaluate model\n",
    "    y_pred = model.predict(X_test)\n",
    "    test_acc = model.score(X_test, y_test)\n",
    "    print(\"Test Accuracy score {0}\".format(test_acc))\n",
    "    print(classification_report(y_test, y_pred))\n",
    "    print(confusion_matrix(y_test, y_pred))\n",
    "\n",
    "    # Export model\n",
    "    model.export('tpot_exported_pipeline{0}.py'.format(seg_num))\n",
    "    pickle.dump(model.fitted_pipeline_,open('tpot_exported_model{0}.pickle'.format(seg_num),\"wb\"))\n",
    "    print(\"\\n_______________________________________________________________________\\n\\n\\n\")"
   ]
  },
  {
   "cell_type": "markdown",
   "metadata": {
    "id": "7NDffvsV3PSK"
   },
   "source": [
    "#  Modeling without Clustering"
   ]
  },
  {
   "cell_type": "markdown",
   "metadata": {
    "id": "TfeqTHVOAchV"
   },
   "source": [
    "## Modeling"
   ]
  },
  {
   "cell_type": "code",
   "execution_count": null,
   "metadata": {
    "colab": {
     "base_uri": "https://localhost:8080/",
     "height": 119
    },
    "id": "oNeo5qVq3UdE",
    "outputId": "42bdbfcd-e4b6-4110-c377-e680939fc4c9"
   },
   "outputs": [
    {
     "name": "stdout",
     "output_type": "stream",
     "text": [
      "Before balancing :  (38744, 52)\n",
      "After balancing : (35317, 50)\n",
      "- Non Churners : (30617, 50)\n",
      "- Churners (4700, 50)\n",
      "X_train Shape :  (24721, 49)\n",
      "X_test Shape :  (10596, 49)\n"
     ]
    }
   ],
   "source": [
    "from tpot import TPOTClassifier\n",
    "\n",
    "df_all = df.copy()\n",
    "print(\"Before balancing : \",df_all.shape)\n",
    "\n",
    "_df = df_all.drop(['mobile_number','segment'], axis=1)\n",
    "\n",
    "### Split data to train/test data\n",
    "for i in range(1,10000):\n",
    "  if i in _df.index:\n",
    "    if (_df.iloc[i].churn==0):\n",
    "      _df= _df.drop(i,axis=0)\n",
    "\n",
    "print(\"After balancing :\",_df.shape)\n",
    "\n",
    "\n",
    "### Split data to train/test data\n",
    "_dfM1 = _df[_df.churn==0]\n",
    "_dfM2 = _df[_df.churn==1]\n",
    "print(\"- Non Churners :\",_dfM1.shape)\n",
    "print(\"- Churners\",_dfM2.shape)\n",
    "\n",
    "\n",
    "X_train1, X_test1 = train_test_split(_dfM1, test_size=0.3, train_size=0.7, random_state=1)\n",
    "X_train2, X_test2 = train_test_split(_dfM2, test_size=0.3, train_size=0.7, random_state=1)\n",
    "train = pd.concat([X_train1,X_train2],axis=0).sample(frac=1)\n",
    "test= pd.concat([X_test1,X_test2],axis=0).sample(frac=1)\n",
    "\n",
    "X_train = train.drop(['churn'], axis=1)\n",
    "y_train = train['churn']\n",
    "X_test = test.drop(['churn'], axis=1)\n",
    "y_test = test['churn']\n",
    "\n",
    "\n",
    "X_test.to_csv(\"global_Xtest.csv\", index=False)\n",
    "y_test.to_csv(\"global_Ytest.csv\", index=False)\n",
    "\n",
    "print(\"X_train Shape : \", X_train.shape)\n",
    "print(\"X_test Shape : \", X_test.shape)"
   ]
  },
  {
   "cell_type": "code",
   "execution_count": null,
   "metadata": {
    "colab": {
     "base_uri": "https://localhost:8080/",
     "height": 321,
     "referenced_widgets": [
      "177851dbc63d425ebb4c80981942997c",
      "557b2aae95f84caaa3eaef3beb66c4ae",
      "d4884894b44f4a84af1956318351bedc",
      "aa89c4eb5b3341288a54b5acee18cf70",
      "6ce0da8be612441baa10e9f895cbe085",
      "c0f1439848364251b16453858a5b56b8",
      "da2095b42e624697a7dd56bdd1442fd3",
      "f818cb54f3c24a6ba0d7642587e9f2d5"
     ]
    },
    "id": "Rsz56pfOzgdd",
    "outputId": "70ad0147-2329-45bc-a21f-b2b76b3f670e"
   },
   "outputs": [
    {
     "data": {
      "application/vnd.jupyter.widget-view+json": {
       "model_id": "177851dbc63d425ebb4c80981942997c",
       "version_major": 2,
       "version_minor": 0
      },
      "text/plain": [
       "HBox(children=(FloatProgress(value=0.0, description='Optimization Progress', style=ProgressStyle(description_w…"
      ]
     },
     "metadata": {
      "tags": []
     },
     "output_type": "display_data"
    },
    {
     "name": "stdout",
     "output_type": "stream",
     "text": [
      "\r\n",
      "\r",
      "6.59 minutes have elapsed. TPOT will close down.\n",
      "TPOT closed during evaluation in one generation.\n",
      "WARNING: TPOT may not provide a good pipeline if TPOT is stopped/interrupted in a early generation.\n",
      "\r\n",
      "\r\n",
      "TPOT closed prematurely. Will use the current best pipeline.\n",
      "\r\n",
      "Best pipeline: KNeighborsClassifier(ZeroCount(VarianceThreshold(input_matrix, threshold=0.1)), n_neighbors=55, p=1, weights=distance)\n",
      "0.9451679879199698\n",
      "\n",
      "0.9451679879199698\n",
      "_______________________________________________________________________\n",
      "\n",
      "\n",
      "\n"
     ]
    }
   ],
   "source": [
    "model = TPOTClassifier(\n",
    "                      config_dict='TPOT light',\n",
    "                      memory='auto',\n",
    "                      template='Selector-Transformer-Classifier',\n",
    "                      scoring='accuracy',\n",
    "                      max_time_mins=6,\n",
    "                      max_eval_time_mins=5,\n",
    "                      verbosity=2\n",
    "                      )\n",
    "model.fit(X_train, y_train)\n",
    "print(model.score(X_test, y_test))\n",
    "model.export('tpot_exported_pipeline_global.py')\n",
    "pickle.dump(model.fitted_pipeline_,open('tpot_exported_model_global.pickle',\"wb\"))\n",
    "print( )\n",
    "print(model.score(X_test, y_test))\n",
    "print(\"_______________________________________________________________________\")\n",
    "print( )\n",
    "print( )\n",
    "print( )"
   ]
  },
  {
   "cell_type": "markdown",
   "metadata": {
    "id": "ConKywpyAUWV"
   },
   "source": [
    "## Evaluation"
   ]
  },
  {
   "cell_type": "code",
   "execution_count": null,
   "metadata": {
    "colab": {
     "base_uri": "https://localhost:8080/",
     "height": 221
    },
    "id": "H10GJLvx3TMs",
    "outputId": "5d0d3d24-b95d-45c8-bce5-52d84c695961"
   },
   "outputs": [
    {
     "name": "stdout",
     "output_type": "stream",
     "text": [
      "              precision    recall  f1-score   support\n",
      "\n",
      "           0       0.96      0.99      0.98     10077\n",
      "           1       0.59      0.28      0.37       522\n",
      "\n",
      "    accuracy                           0.95     10599\n",
      "   macro avg       0.77      0.63      0.68     10599\n",
      "weighted avg       0.94      0.95      0.95     10599\n",
      "\n",
      "[[9975  102]\n",
      " [ 378  144]]\n",
      "Test Accuracy score 0.9547127087461081\n"
     ]
    }
   ],
   "source": [
    "# The evaluation metrics of our default model\n",
    "y_pred = model.predict(X_test)\n",
    "\n",
    "# Printing classification report\n",
    "print(classification_report(y_test, y_pred))\n",
    "print(confusion_matrix(y_test, y_pred))\n",
    "\n",
    "# other context\n",
    "test_acc = accuracy_score(y_test, y_pred)\n",
    "print(\"Test Accuracy score {0}\".format(test_acc))"
   ]
  }
 ],
 "metadata": {
  "accelerator": "TPU",
  "colab": {
   "collapsed_sections": [
    "O8rSgUxrB48I"
   ],
   "name": "PFE-Churn_Prediction.ipynb",
   "provenance": [],
   "toc_visible": true
  },
  "kernelspec": {
   "display_name": "Python 3",
   "language": "python",
   "name": "python3"
  },
  "language_info": {
   "codemirror_mode": {
    "name": "ipython",
    "version": 3
   },
   "file_extension": ".py",
   "mimetype": "text/x-python",
   "name": "python",
   "nbconvert_exporter": "python",
   "pygments_lexer": "ipython3",
   "version": "3.7.6"
  },
  "widgets": {
   "application/vnd.jupyter.widget-state+json": {
    "03dd3110a9d04d249f8cfdf5971306ff": {
     "model_module": "@jupyter-widgets/base",
     "model_name": "LayoutModel",
     "state": {
      "_model_module": "@jupyter-widgets/base",
      "_model_module_version": "1.2.0",
      "_model_name": "LayoutModel",
      "_view_count": null,
      "_view_module": "@jupyter-widgets/base",
      "_view_module_version": "1.2.0",
      "_view_name": "LayoutView",
      "align_content": null,
      "align_items": null,
      "align_self": null,
      "border": null,
      "bottom": null,
      "display": null,
      "flex": null,
      "flex_flow": null,
      "grid_area": null,
      "grid_auto_columns": null,
      "grid_auto_flow": null,
      "grid_auto_rows": null,
      "grid_column": null,
      "grid_gap": null,
      "grid_row": null,
      "grid_template_areas": null,
      "grid_template_columns": null,
      "grid_template_rows": null,
      "height": null,
      "justify_content": null,
      "justify_items": null,
      "left": null,
      "margin": null,
      "max_height": null,
      "max_width": null,
      "min_height": null,
      "min_width": null,
      "object_fit": null,
      "object_position": null,
      "order": null,
      "overflow": null,
      "overflow_x": null,
      "overflow_y": null,
      "padding": null,
      "right": null,
      "top": null,
      "visibility": null,
      "width": null
     }
    },
    "09d7ba6df3d74739b71cb1cb3cbce05e": {
     "model_module": "@jupyter-widgets/base",
     "model_name": "LayoutModel",
     "state": {
      "_model_module": "@jupyter-widgets/base",
      "_model_module_version": "1.2.0",
      "_model_name": "LayoutModel",
      "_view_count": null,
      "_view_module": "@jupyter-widgets/base",
      "_view_module_version": "1.2.0",
      "_view_name": "LayoutView",
      "align_content": null,
      "align_items": null,
      "align_self": null,
      "border": null,
      "bottom": null,
      "display": null,
      "flex": null,
      "flex_flow": null,
      "grid_area": null,
      "grid_auto_columns": null,
      "grid_auto_flow": null,
      "grid_auto_rows": null,
      "grid_column": null,
      "grid_gap": null,
      "grid_row": null,
      "grid_template_areas": null,
      "grid_template_columns": null,
      "grid_template_rows": null,
      "height": null,
      "justify_content": null,
      "justify_items": null,
      "left": null,
      "margin": null,
      "max_height": null,
      "max_width": null,
      "min_height": null,
      "min_width": null,
      "object_fit": null,
      "object_position": null,
      "order": null,
      "overflow": null,
      "overflow_x": null,
      "overflow_y": null,
      "padding": null,
      "right": null,
      "top": null,
      "visibility": null,
      "width": null
     }
    },
    "10ed8326c5564d42aea5803d1855f8b5": {
     "model_module": "@jupyter-widgets/controls",
     "model_name": "FloatProgressModel",
     "state": {
      "_dom_classes": [],
      "_model_module": "@jupyter-widgets/controls",
      "_model_module_version": "1.5.0",
      "_model_name": "FloatProgressModel",
      "_view_count": null,
      "_view_module": "@jupyter-widgets/controls",
      "_view_module_version": "1.5.0",
      "_view_name": "ProgressView",
      "bar_style": "",
      "description": "Optimization Progress: 100%",
      "description_tooltip": null,
      "layout": "IPY_MODEL_1a522baa51b04fffb1b5cb1fba5e1fa5",
      "max": 200,
      "min": 0,
      "orientation": "horizontal",
      "style": "IPY_MODEL_724929df095342a293f58010bb7d2842",
      "value": 200
     }
    },
    "177851dbc63d425ebb4c80981942997c": {
     "model_module": "@jupyter-widgets/controls",
     "model_name": "HBoxModel",
     "state": {
      "_dom_classes": [],
      "_model_module": "@jupyter-widgets/controls",
      "_model_module_version": "1.5.0",
      "_model_name": "HBoxModel",
      "_view_count": null,
      "_view_module": "@jupyter-widgets/controls",
      "_view_module_version": "1.5.0",
      "_view_name": "HBoxView",
      "box_style": "",
      "children": [
       "IPY_MODEL_d4884894b44f4a84af1956318351bedc",
       "IPY_MODEL_aa89c4eb5b3341288a54b5acee18cf70"
      ],
      "layout": "IPY_MODEL_557b2aae95f84caaa3eaef3beb66c4ae"
     }
    },
    "1a522baa51b04fffb1b5cb1fba5e1fa5": {
     "model_module": "@jupyter-widgets/base",
     "model_name": "LayoutModel",
     "state": {
      "_model_module": "@jupyter-widgets/base",
      "_model_module_version": "1.2.0",
      "_model_name": "LayoutModel",
      "_view_count": null,
      "_view_module": "@jupyter-widgets/base",
      "_view_module_version": "1.2.0",
      "_view_name": "LayoutView",
      "align_content": null,
      "align_items": null,
      "align_self": null,
      "border": null,
      "bottom": null,
      "display": null,
      "flex": null,
      "flex_flow": null,
      "grid_area": null,
      "grid_auto_columns": null,
      "grid_auto_flow": null,
      "grid_auto_rows": null,
      "grid_column": null,
      "grid_gap": null,
      "grid_row": null,
      "grid_template_areas": null,
      "grid_template_columns": null,
      "grid_template_rows": null,
      "height": null,
      "justify_content": null,
      "justify_items": null,
      "left": null,
      "margin": null,
      "max_height": null,
      "max_width": null,
      "min_height": null,
      "min_width": null,
      "object_fit": null,
      "object_position": null,
      "order": null,
      "overflow": null,
      "overflow_x": null,
      "overflow_y": null,
      "padding": null,
      "right": null,
      "top": null,
      "visibility": null,
      "width": null
     }
    },
    "1b892b83834a4b938f87d51e33ff6768": {
     "model_module": "@jupyter-widgets/controls",
     "model_name": "ProgressStyleModel",
     "state": {
      "_model_module": "@jupyter-widgets/controls",
      "_model_module_version": "1.5.0",
      "_model_name": "ProgressStyleModel",
      "_view_count": null,
      "_view_module": "@jupyter-widgets/base",
      "_view_module_version": "1.2.0",
      "_view_name": "StyleView",
      "bar_color": null,
      "description_width": "initial"
     }
    },
    "1e1e8f6e6c0d44f39877923d7f44800f": {
     "model_module": "@jupyter-widgets/base",
     "model_name": "LayoutModel",
     "state": {
      "_model_module": "@jupyter-widgets/base",
      "_model_module_version": "1.2.0",
      "_model_name": "LayoutModel",
      "_view_count": null,
      "_view_module": "@jupyter-widgets/base",
      "_view_module_version": "1.2.0",
      "_view_name": "LayoutView",
      "align_content": null,
      "align_items": null,
      "align_self": null,
      "border": null,
      "bottom": null,
      "display": null,
      "flex": null,
      "flex_flow": null,
      "grid_area": null,
      "grid_auto_columns": null,
      "grid_auto_flow": null,
      "grid_auto_rows": null,
      "grid_column": null,
      "grid_gap": null,
      "grid_row": null,
      "grid_template_areas": null,
      "grid_template_columns": null,
      "grid_template_rows": null,
      "height": null,
      "justify_content": null,
      "justify_items": null,
      "left": null,
      "margin": null,
      "max_height": null,
      "max_width": null,
      "min_height": null,
      "min_width": null,
      "object_fit": null,
      "object_position": null,
      "order": null,
      "overflow": null,
      "overflow_x": null,
      "overflow_y": null,
      "padding": null,
      "right": null,
      "top": null,
      "visibility": null,
      "width": null
     }
    },
    "24ed397f8ec3437ea94649b0e3896fe6": {
     "model_module": "@jupyter-widgets/controls",
     "model_name": "HBoxModel",
     "state": {
      "_dom_classes": [],
      "_model_module": "@jupyter-widgets/controls",
      "_model_module_version": "1.5.0",
      "_model_name": "HBoxModel",
      "_view_count": null,
      "_view_module": "@jupyter-widgets/controls",
      "_view_module_version": "1.5.0",
      "_view_name": "HBoxView",
      "box_style": "",
      "children": [
       "IPY_MODEL_2e8fba449297417daa1d1eb38104fb34",
       "IPY_MODEL_ff06b19310cb42a5b324f21e960a0ecd"
      ],
      "layout": "IPY_MODEL_b9d8d2ff19fb4ed8ae987dd10643131b"
     }
    },
    "2e8fba449297417daa1d1eb38104fb34": {
     "model_module": "@jupyter-widgets/controls",
     "model_name": "FloatProgressModel",
     "state": {
      "_dom_classes": [],
      "_model_module": "@jupyter-widgets/controls",
      "_model_module_version": "1.5.0",
      "_model_name": "FloatProgressModel",
      "_view_count": null,
      "_view_module": "@jupyter-widgets/controls",
      "_view_module_version": "1.5.0",
      "_view_name": "ProgressView",
      "bar_style": "",
      "description": "Optimization Progress: 100%",
      "description_tooltip": null,
      "layout": "IPY_MODEL_c58acd3e295f48e58cdaee7c041dd0d8",
      "max": 200,
      "min": 0,
      "orientation": "horizontal",
      "style": "IPY_MODEL_5102afed67e44f129bcface7cc44b57a",
      "value": 200
     }
    },
    "2fbcaad905744196a591ee9e98f67f09": {
     "model_module": "@jupyter-widgets/controls",
     "model_name": "DescriptionStyleModel",
     "state": {
      "_model_module": "@jupyter-widgets/controls",
      "_model_module_version": "1.5.0",
      "_model_name": "DescriptionStyleModel",
      "_view_count": null,
      "_view_module": "@jupyter-widgets/base",
      "_view_module_version": "1.2.0",
      "_view_name": "StyleView",
      "description_width": ""
     }
    },
    "3415b1e28dde4ada865bec5cdde8d2c0": {
     "model_module": "@jupyter-widgets/controls",
     "model_name": "FloatProgressModel",
     "state": {
      "_dom_classes": [],
      "_model_module": "@jupyter-widgets/controls",
      "_model_module_version": "1.5.0",
      "_model_name": "FloatProgressModel",
      "_view_count": null,
      "_view_module": "@jupyter-widgets/controls",
      "_view_module_version": "1.5.0",
      "_view_name": "ProgressView",
      "bar_style": "",
      "description": "Optimization Progress: 100%",
      "description_tooltip": null,
      "layout": "IPY_MODEL_1e1e8f6e6c0d44f39877923d7f44800f",
      "max": 200,
      "min": 0,
      "orientation": "horizontal",
      "style": "IPY_MODEL_466149c421304d3a8ebdf61c74587865",
      "value": 200
     }
    },
    "414cf30ea21e4cd0922dcc35012cdf59": {
     "model_module": "@jupyter-widgets/controls",
     "model_name": "HTMLModel",
     "state": {
      "_dom_classes": [],
      "_model_module": "@jupyter-widgets/controls",
      "_model_module_version": "1.5.0",
      "_model_name": "HTMLModel",
      "_view_count": null,
      "_view_module": "@jupyter-widgets/controls",
      "_view_module_version": "1.5.0",
      "_view_name": "HTMLView",
      "description": "",
      "description_tooltip": null,
      "layout": "IPY_MODEL_d023243dc11b4f2c807ced53dccf1f82",
      "placeholder": "​",
      "style": "IPY_MODEL_2fbcaad905744196a591ee9e98f67f09",
      "value": " 278/300 [30:14&lt;04:54, 13.36s/pipeline]"
     }
    },
    "466149c421304d3a8ebdf61c74587865": {
     "model_module": "@jupyter-widgets/controls",
     "model_name": "ProgressStyleModel",
     "state": {
      "_model_module": "@jupyter-widgets/controls",
      "_model_module_version": "1.5.0",
      "_model_name": "ProgressStyleModel",
      "_view_count": null,
      "_view_module": "@jupyter-widgets/base",
      "_view_module_version": "1.2.0",
      "_view_name": "StyleView",
      "bar_color": null,
      "description_width": "initial"
     }
    },
    "5102afed67e44f129bcface7cc44b57a": {
     "model_module": "@jupyter-widgets/controls",
     "model_name": "ProgressStyleModel",
     "state": {
      "_model_module": "@jupyter-widgets/controls",
      "_model_module_version": "1.5.0",
      "_model_name": "ProgressStyleModel",
      "_view_count": null,
      "_view_module": "@jupyter-widgets/base",
      "_view_module_version": "1.2.0",
      "_view_name": "StyleView",
      "bar_color": null,
      "description_width": "initial"
     }
    },
    "52061320e54b4a149970ec7f70cc08b8": {
     "model_module": "@jupyter-widgets/controls",
     "model_name": "HBoxModel",
     "state": {
      "_dom_classes": [],
      "_model_module": "@jupyter-widgets/controls",
      "_model_module_version": "1.5.0",
      "_model_name": "HBoxModel",
      "_view_count": null,
      "_view_module": "@jupyter-widgets/controls",
      "_view_module_version": "1.5.0",
      "_view_name": "HBoxView",
      "box_style": "",
      "children": [
       "IPY_MODEL_5dba8b548bac42c48c237b6975ec10f8",
       "IPY_MODEL_414cf30ea21e4cd0922dcc35012cdf59"
      ],
      "layout": "IPY_MODEL_95450333fe22405fae88dc6e2ae9a1c5"
     }
    },
    "557b2aae95f84caaa3eaef3beb66c4ae": {
     "model_module": "@jupyter-widgets/base",
     "model_name": "LayoutModel",
     "state": {
      "_model_module": "@jupyter-widgets/base",
      "_model_module_version": "1.2.0",
      "_model_name": "LayoutModel",
      "_view_count": null,
      "_view_module": "@jupyter-widgets/base",
      "_view_module_version": "1.2.0",
      "_view_name": "LayoutView",
      "align_content": null,
      "align_items": null,
      "align_self": null,
      "border": null,
      "bottom": null,
      "display": null,
      "flex": null,
      "flex_flow": null,
      "grid_area": null,
      "grid_auto_columns": null,
      "grid_auto_flow": null,
      "grid_auto_rows": null,
      "grid_column": null,
      "grid_gap": null,
      "grid_row": null,
      "grid_template_areas": null,
      "grid_template_columns": null,
      "grid_template_rows": null,
      "height": null,
      "justify_content": null,
      "justify_items": null,
      "left": null,
      "margin": null,
      "max_height": null,
      "max_width": null,
      "min_height": null,
      "min_width": null,
      "object_fit": null,
      "object_position": null,
      "order": null,
      "overflow": null,
      "overflow_x": null,
      "overflow_y": null,
      "padding": null,
      "right": null,
      "top": null,
      "visibility": null,
      "width": null
     }
    },
    "563867b11bf24f3eadc2e9e8acd5ecee": {
     "model_module": "@jupyter-widgets/controls",
     "model_name": "HTMLModel",
     "state": {
      "_dom_classes": [],
      "_model_module": "@jupyter-widgets/controls",
      "_model_module_version": "1.5.0",
      "_model_name": "HTMLModel",
      "_view_count": null,
      "_view_module": "@jupyter-widgets/controls",
      "_view_module_version": "1.5.0",
      "_view_name": "HTMLView",
      "description": "",
      "description_tooltip": null,
      "layout": "IPY_MODEL_8378a077799743b982521920a5fc35ec",
      "placeholder": "​",
      "style": "IPY_MODEL_65e72bcae27744719033c291b84732c5",
      "value": " 200/200 [22:27&lt;00:00, 21.97s/pipeline]"
     }
    },
    "5dba8b548bac42c48c237b6975ec10f8": {
     "model_module": "@jupyter-widgets/controls",
     "model_name": "FloatProgressModel",
     "state": {
      "_dom_classes": [],
      "_model_module": "@jupyter-widgets/controls",
      "_model_module_version": "1.5.0",
      "_model_name": "FloatProgressModel",
      "_view_count": null,
      "_view_module": "@jupyter-widgets/controls",
      "_view_module_version": "1.5.0",
      "_view_name": "ProgressView",
      "bar_style": "danger",
      "description": "Optimization Progress:  93%",
      "description_tooltip": null,
      "layout": "IPY_MODEL_d334363c51984eeab2ecb8d8ad18c22a",
      "max": 100,
      "min": 0,
      "orientation": "horizontal",
      "style": "IPY_MODEL_1b892b83834a4b938f87d51e33ff6768",
      "value": 100
     }
    },
    "65e72bcae27744719033c291b84732c5": {
     "model_module": "@jupyter-widgets/controls",
     "model_name": "DescriptionStyleModel",
     "state": {
      "_model_module": "@jupyter-widgets/controls",
      "_model_module_version": "1.5.0",
      "_model_name": "DescriptionStyleModel",
      "_view_count": null,
      "_view_module": "@jupyter-widgets/base",
      "_view_module_version": "1.2.0",
      "_view_name": "StyleView",
      "description_width": ""
     }
    },
    "6ce0da8be612441baa10e9f895cbe085": {
     "model_module": "@jupyter-widgets/controls",
     "model_name": "ProgressStyleModel",
     "state": {
      "_model_module": "@jupyter-widgets/controls",
      "_model_module_version": "1.5.0",
      "_model_name": "ProgressStyleModel",
      "_view_count": null,
      "_view_module": "@jupyter-widgets/base",
      "_view_module_version": "1.2.0",
      "_view_name": "StyleView",
      "bar_color": null,
      "description_width": "initial"
     }
    },
    "6e53388eb3d94c27ba0e35f2a53fd370": {
     "model_module": "@jupyter-widgets/base",
     "model_name": "LayoutModel",
     "state": {
      "_model_module": "@jupyter-widgets/base",
      "_model_module_version": "1.2.0",
      "_model_name": "LayoutModel",
      "_view_count": null,
      "_view_module": "@jupyter-widgets/base",
      "_view_module_version": "1.2.0",
      "_view_name": "LayoutView",
      "align_content": null,
      "align_items": null,
      "align_self": null,
      "border": null,
      "bottom": null,
      "display": null,
      "flex": null,
      "flex_flow": null,
      "grid_area": null,
      "grid_auto_columns": null,
      "grid_auto_flow": null,
      "grid_auto_rows": null,
      "grid_column": null,
      "grid_gap": null,
      "grid_row": null,
      "grid_template_areas": null,
      "grid_template_columns": null,
      "grid_template_rows": null,
      "height": null,
      "justify_content": null,
      "justify_items": null,
      "left": null,
      "margin": null,
      "max_height": null,
      "max_width": null,
      "min_height": null,
      "min_width": null,
      "object_fit": null,
      "object_position": null,
      "order": null,
      "overflow": null,
      "overflow_x": null,
      "overflow_y": null,
      "padding": null,
      "right": null,
      "top": null,
      "visibility": null,
      "width": null
     }
    },
    "724929df095342a293f58010bb7d2842": {
     "model_module": "@jupyter-widgets/controls",
     "model_name": "ProgressStyleModel",
     "state": {
      "_model_module": "@jupyter-widgets/controls",
      "_model_module_version": "1.5.0",
      "_model_name": "ProgressStyleModel",
      "_view_count": null,
      "_view_module": "@jupyter-widgets/base",
      "_view_module_version": "1.2.0",
      "_view_name": "StyleView",
      "bar_color": null,
      "description_width": "initial"
     }
    },
    "73ee246dd90244f0aaa66fb42c27a26d": {
     "model_module": "@jupyter-widgets/controls",
     "model_name": "DescriptionStyleModel",
     "state": {
      "_model_module": "@jupyter-widgets/controls",
      "_model_module_version": "1.5.0",
      "_model_name": "DescriptionStyleModel",
      "_view_count": null,
      "_view_module": "@jupyter-widgets/base",
      "_view_module_version": "1.2.0",
      "_view_name": "StyleView",
      "description_width": ""
     }
    },
    "7cdfe65fe90640a8aea3f1e5ae18b49e": {
     "model_module": "@jupyter-widgets/base",
     "model_name": "LayoutModel",
     "state": {
      "_model_module": "@jupyter-widgets/base",
      "_model_module_version": "1.2.0",
      "_model_name": "LayoutModel",
      "_view_count": null,
      "_view_module": "@jupyter-widgets/base",
      "_view_module_version": "1.2.0",
      "_view_name": "LayoutView",
      "align_content": null,
      "align_items": null,
      "align_self": null,
      "border": null,
      "bottom": null,
      "display": null,
      "flex": null,
      "flex_flow": null,
      "grid_area": null,
      "grid_auto_columns": null,
      "grid_auto_flow": null,
      "grid_auto_rows": null,
      "grid_column": null,
      "grid_gap": null,
      "grid_row": null,
      "grid_template_areas": null,
      "grid_template_columns": null,
      "grid_template_rows": null,
      "height": null,
      "justify_content": null,
      "justify_items": null,
      "left": null,
      "margin": null,
      "max_height": null,
      "max_width": null,
      "min_height": null,
      "min_width": null,
      "object_fit": null,
      "object_position": null,
      "order": null,
      "overflow": null,
      "overflow_x": null,
      "overflow_y": null,
      "padding": null,
      "right": null,
      "top": null,
      "visibility": null,
      "width": null
     }
    },
    "7eb8fc37e9ec47c29f2822cf272ac102": {
     "model_module": "@jupyter-widgets/controls",
     "model_name": "ProgressStyleModel",
     "state": {
      "_model_module": "@jupyter-widgets/controls",
      "_model_module_version": "1.5.0",
      "_model_name": "ProgressStyleModel",
      "_view_count": null,
      "_view_module": "@jupyter-widgets/base",
      "_view_module_version": "1.2.0",
      "_view_name": "StyleView",
      "bar_color": null,
      "description_width": "initial"
     }
    },
    "8378a077799743b982521920a5fc35ec": {
     "model_module": "@jupyter-widgets/base",
     "model_name": "LayoutModel",
     "state": {
      "_model_module": "@jupyter-widgets/base",
      "_model_module_version": "1.2.0",
      "_model_name": "LayoutModel",
      "_view_count": null,
      "_view_module": "@jupyter-widgets/base",
      "_view_module_version": "1.2.0",
      "_view_name": "LayoutView",
      "align_content": null,
      "align_items": null,
      "align_self": null,
      "border": null,
      "bottom": null,
      "display": null,
      "flex": null,
      "flex_flow": null,
      "grid_area": null,
      "grid_auto_columns": null,
      "grid_auto_flow": null,
      "grid_auto_rows": null,
      "grid_column": null,
      "grid_gap": null,
      "grid_row": null,
      "grid_template_areas": null,
      "grid_template_columns": null,
      "grid_template_rows": null,
      "height": null,
      "justify_content": null,
      "justify_items": null,
      "left": null,
      "margin": null,
      "max_height": null,
      "max_width": null,
      "min_height": null,
      "min_width": null,
      "object_fit": null,
      "object_position": null,
      "order": null,
      "overflow": null,
      "overflow_x": null,
      "overflow_y": null,
      "padding": null,
      "right": null,
      "top": null,
      "visibility": null,
      "width": null
     }
    },
    "8796233d004e4a0ab009773265f0ea02": {
     "model_module": "@jupyter-widgets/controls",
     "model_name": "HBoxModel",
     "state": {
      "_dom_classes": [],
      "_model_module": "@jupyter-widgets/controls",
      "_model_module_version": "1.5.0",
      "_model_name": "HBoxModel",
      "_view_count": null,
      "_view_module": "@jupyter-widgets/controls",
      "_view_module_version": "1.5.0",
      "_view_name": "HBoxView",
      "box_style": "",
      "children": [
       "IPY_MODEL_3415b1e28dde4ada865bec5cdde8d2c0",
       "IPY_MODEL_c938daa6e55847029e7b817156b0e2cf"
      ],
      "layout": "IPY_MODEL_7cdfe65fe90640a8aea3f1e5ae18b49e"
     }
    },
    "8ae3a441a94e42528ecf2c2c24f56b0b": {
     "model_module": "@jupyter-widgets/controls",
     "model_name": "FloatProgressModel",
     "state": {
      "_dom_classes": [],
      "_model_module": "@jupyter-widgets/controls",
      "_model_module_version": "1.5.0",
      "_model_name": "FloatProgressModel",
      "_view_count": null,
      "_view_module": "@jupyter-widgets/controls",
      "_view_module_version": "1.5.0",
      "_view_name": "ProgressView",
      "bar_style": "",
      "description": "Optimization Progress: 100%",
      "description_tooltip": null,
      "layout": "IPY_MODEL_6e53388eb3d94c27ba0e35f2a53fd370",
      "max": 200,
      "min": 0,
      "orientation": "horizontal",
      "style": "IPY_MODEL_7eb8fc37e9ec47c29f2822cf272ac102",
      "value": 200
     }
    },
    "8b4ad36dd0414a3f86915410a97fc444": {
     "model_module": "@jupyter-widgets/base",
     "model_name": "LayoutModel",
     "state": {
      "_model_module": "@jupyter-widgets/base",
      "_model_module_version": "1.2.0",
      "_model_name": "LayoutModel",
      "_view_count": null,
      "_view_module": "@jupyter-widgets/base",
      "_view_module_version": "1.2.0",
      "_view_name": "LayoutView",
      "align_content": null,
      "align_items": null,
      "align_self": null,
      "border": null,
      "bottom": null,
      "display": null,
      "flex": null,
      "flex_flow": null,
      "grid_area": null,
      "grid_auto_columns": null,
      "grid_auto_flow": null,
      "grid_auto_rows": null,
      "grid_column": null,
      "grid_gap": null,
      "grid_row": null,
      "grid_template_areas": null,
      "grid_template_columns": null,
      "grid_template_rows": null,
      "height": null,
      "justify_content": null,
      "justify_items": null,
      "left": null,
      "margin": null,
      "max_height": null,
      "max_width": null,
      "min_height": null,
      "min_width": null,
      "object_fit": null,
      "object_position": null,
      "order": null,
      "overflow": null,
      "overflow_x": null,
      "overflow_y": null,
      "padding": null,
      "right": null,
      "top": null,
      "visibility": null,
      "width": null
     }
    },
    "95450333fe22405fae88dc6e2ae9a1c5": {
     "model_module": "@jupyter-widgets/base",
     "model_name": "LayoutModel",
     "state": {
      "_model_module": "@jupyter-widgets/base",
      "_model_module_version": "1.2.0",
      "_model_name": "LayoutModel",
      "_view_count": null,
      "_view_module": "@jupyter-widgets/base",
      "_view_module_version": "1.2.0",
      "_view_name": "LayoutView",
      "align_content": null,
      "align_items": null,
      "align_self": null,
      "border": null,
      "bottom": null,
      "display": null,
      "flex": null,
      "flex_flow": null,
      "grid_area": null,
      "grid_auto_columns": null,
      "grid_auto_flow": null,
      "grid_auto_rows": null,
      "grid_column": null,
      "grid_gap": null,
      "grid_row": null,
      "grid_template_areas": null,
      "grid_template_columns": null,
      "grid_template_rows": null,
      "height": null,
      "justify_content": null,
      "justify_items": null,
      "left": null,
      "margin": null,
      "max_height": null,
      "max_width": null,
      "min_height": null,
      "min_width": null,
      "object_fit": null,
      "object_position": null,
      "order": null,
      "overflow": null,
      "overflow_x": null,
      "overflow_y": null,
      "padding": null,
      "right": null,
      "top": null,
      "visibility": null,
      "width": null
     }
    },
    "9b21c57d2b944de28d33d1aa343fa5b3": {
     "model_module": "@jupyter-widgets/controls",
     "model_name": "HBoxModel",
     "state": {
      "_dom_classes": [],
      "_model_module": "@jupyter-widgets/controls",
      "_model_module_version": "1.5.0",
      "_model_name": "HBoxModel",
      "_view_count": null,
      "_view_module": "@jupyter-widgets/controls",
      "_view_module_version": "1.5.0",
      "_view_name": "HBoxView",
      "box_style": "",
      "children": [
       "IPY_MODEL_8ae3a441a94e42528ecf2c2c24f56b0b",
       "IPY_MODEL_a24b6586999a4f43b90be8273fa853d4"
      ],
      "layout": "IPY_MODEL_af2a2670a59343a391b05a957ef7ad3e"
     }
    },
    "a24b6586999a4f43b90be8273fa853d4": {
     "model_module": "@jupyter-widgets/controls",
     "model_name": "HTMLModel",
     "state": {
      "_dom_classes": [],
      "_model_module": "@jupyter-widgets/controls",
      "_model_module_version": "1.5.0",
      "_model_name": "HTMLModel",
      "_view_count": null,
      "_view_module": "@jupyter-widgets/controls",
      "_view_module_version": "1.5.0",
      "_view_name": "HTMLView",
      "description": "",
      "description_tooltip": null,
      "layout": "IPY_MODEL_8b4ad36dd0414a3f86915410a97fc444",
      "placeholder": "​",
      "style": "IPY_MODEL_d57b14a56be04df38f130300015b6fc2",
      "value": " 200/200 [35:20&lt;00:00,  5.15s/pipeline]"
     }
    },
    "aa89c4eb5b3341288a54b5acee18cf70": {
     "model_module": "@jupyter-widgets/controls",
     "model_name": "HTMLModel",
     "state": {
      "_dom_classes": [],
      "_model_module": "@jupyter-widgets/controls",
      "_model_module_version": "1.5.0",
      "_model_name": "HTMLModel",
      "_view_count": null,
      "_view_module": "@jupyter-widgets/controls",
      "_view_module_version": "1.5.0",
      "_view_name": "HTMLView",
      "description": "",
      "description_tooltip": null,
      "layout": "IPY_MODEL_f818cb54f3c24a6ba0d7642587e9f2d5",
      "placeholder": "​",
      "style": "IPY_MODEL_da2095b42e624697a7dd56bdd1442fd3",
      "value": " 30/100 [22:09&lt;37:40, 32.29s/pipeline]"
     }
    },
    "af2a2670a59343a391b05a957ef7ad3e": {
     "model_module": "@jupyter-widgets/base",
     "model_name": "LayoutModel",
     "state": {
      "_model_module": "@jupyter-widgets/base",
      "_model_module_version": "1.2.0",
      "_model_name": "LayoutModel",
      "_view_count": null,
      "_view_module": "@jupyter-widgets/base",
      "_view_module_version": "1.2.0",
      "_view_name": "LayoutView",
      "align_content": null,
      "align_items": null,
      "align_self": null,
      "border": null,
      "bottom": null,
      "display": null,
      "flex": null,
      "flex_flow": null,
      "grid_area": null,
      "grid_auto_columns": null,
      "grid_auto_flow": null,
      "grid_auto_rows": null,
      "grid_column": null,
      "grid_gap": null,
      "grid_row": null,
      "grid_template_areas": null,
      "grid_template_columns": null,
      "grid_template_rows": null,
      "height": null,
      "justify_content": null,
      "justify_items": null,
      "left": null,
      "margin": null,
      "max_height": null,
      "max_width": null,
      "min_height": null,
      "min_width": null,
      "object_fit": null,
      "object_position": null,
      "order": null,
      "overflow": null,
      "overflow_x": null,
      "overflow_y": null,
      "padding": null,
      "right": null,
      "top": null,
      "visibility": null,
      "width": null
     }
    },
    "b862699870e24fbd838c0638d5de379c": {
     "model_module": "@jupyter-widgets/base",
     "model_name": "LayoutModel",
     "state": {
      "_model_module": "@jupyter-widgets/base",
      "_model_module_version": "1.2.0",
      "_model_name": "LayoutModel",
      "_view_count": null,
      "_view_module": "@jupyter-widgets/base",
      "_view_module_version": "1.2.0",
      "_view_name": "LayoutView",
      "align_content": null,
      "align_items": null,
      "align_self": null,
      "border": null,
      "bottom": null,
      "display": null,
      "flex": null,
      "flex_flow": null,
      "grid_area": null,
      "grid_auto_columns": null,
      "grid_auto_flow": null,
      "grid_auto_rows": null,
      "grid_column": null,
      "grid_gap": null,
      "grid_row": null,
      "grid_template_areas": null,
      "grid_template_columns": null,
      "grid_template_rows": null,
      "height": null,
      "justify_content": null,
      "justify_items": null,
      "left": null,
      "margin": null,
      "max_height": null,
      "max_width": null,
      "min_height": null,
      "min_width": null,
      "object_fit": null,
      "object_position": null,
      "order": null,
      "overflow": null,
      "overflow_x": null,
      "overflow_y": null,
      "padding": null,
      "right": null,
      "top": null,
      "visibility": null,
      "width": null
     }
    },
    "b9d8d2ff19fb4ed8ae987dd10643131b": {
     "model_module": "@jupyter-widgets/base",
     "model_name": "LayoutModel",
     "state": {
      "_model_module": "@jupyter-widgets/base",
      "_model_module_version": "1.2.0",
      "_model_name": "LayoutModel",
      "_view_count": null,
      "_view_module": "@jupyter-widgets/base",
      "_view_module_version": "1.2.0",
      "_view_name": "LayoutView",
      "align_content": null,
      "align_items": null,
      "align_self": null,
      "border": null,
      "bottom": null,
      "display": null,
      "flex": null,
      "flex_flow": null,
      "grid_area": null,
      "grid_auto_columns": null,
      "grid_auto_flow": null,
      "grid_auto_rows": null,
      "grid_column": null,
      "grid_gap": null,
      "grid_row": null,
      "grid_template_areas": null,
      "grid_template_columns": null,
      "grid_template_rows": null,
      "height": null,
      "justify_content": null,
      "justify_items": null,
      "left": null,
      "margin": null,
      "max_height": null,
      "max_width": null,
      "min_height": null,
      "min_width": null,
      "object_fit": null,
      "object_position": null,
      "order": null,
      "overflow": null,
      "overflow_x": null,
      "overflow_y": null,
      "padding": null,
      "right": null,
      "top": null,
      "visibility": null,
      "width": null
     }
    },
    "c0f1439848364251b16453858a5b56b8": {
     "model_module": "@jupyter-widgets/base",
     "model_name": "LayoutModel",
     "state": {
      "_model_module": "@jupyter-widgets/base",
      "_model_module_version": "1.2.0",
      "_model_name": "LayoutModel",
      "_view_count": null,
      "_view_module": "@jupyter-widgets/base",
      "_view_module_version": "1.2.0",
      "_view_name": "LayoutView",
      "align_content": null,
      "align_items": null,
      "align_self": null,
      "border": null,
      "bottom": null,
      "display": null,
      "flex": null,
      "flex_flow": null,
      "grid_area": null,
      "grid_auto_columns": null,
      "grid_auto_flow": null,
      "grid_auto_rows": null,
      "grid_column": null,
      "grid_gap": null,
      "grid_row": null,
      "grid_template_areas": null,
      "grid_template_columns": null,
      "grid_template_rows": null,
      "height": null,
      "justify_content": null,
      "justify_items": null,
      "left": null,
      "margin": null,
      "max_height": null,
      "max_width": null,
      "min_height": null,
      "min_width": null,
      "object_fit": null,
      "object_position": null,
      "order": null,
      "overflow": null,
      "overflow_x": null,
      "overflow_y": null,
      "padding": null,
      "right": null,
      "top": null,
      "visibility": null,
      "width": null
     }
    },
    "c58acd3e295f48e58cdaee7c041dd0d8": {
     "model_module": "@jupyter-widgets/base",
     "model_name": "LayoutModel",
     "state": {
      "_model_module": "@jupyter-widgets/base",
      "_model_module_version": "1.2.0",
      "_model_name": "LayoutModel",
      "_view_count": null,
      "_view_module": "@jupyter-widgets/base",
      "_view_module_version": "1.2.0",
      "_view_name": "LayoutView",
      "align_content": null,
      "align_items": null,
      "align_self": null,
      "border": null,
      "bottom": null,
      "display": null,
      "flex": null,
      "flex_flow": null,
      "grid_area": null,
      "grid_auto_columns": null,
      "grid_auto_flow": null,
      "grid_auto_rows": null,
      "grid_column": null,
      "grid_gap": null,
      "grid_row": null,
      "grid_template_areas": null,
      "grid_template_columns": null,
      "grid_template_rows": null,
      "height": null,
      "justify_content": null,
      "justify_items": null,
      "left": null,
      "margin": null,
      "max_height": null,
      "max_width": null,
      "min_height": null,
      "min_width": null,
      "object_fit": null,
      "object_position": null,
      "order": null,
      "overflow": null,
      "overflow_x": null,
      "overflow_y": null,
      "padding": null,
      "right": null,
      "top": null,
      "visibility": null,
      "width": null
     }
    },
    "c938daa6e55847029e7b817156b0e2cf": {
     "model_module": "@jupyter-widgets/controls",
     "model_name": "HTMLModel",
     "state": {
      "_dom_classes": [],
      "_model_module": "@jupyter-widgets/controls",
      "_model_module_version": "1.5.0",
      "_model_name": "HTMLModel",
      "_view_count": null,
      "_view_module": "@jupyter-widgets/controls",
      "_view_module_version": "1.5.0",
      "_view_name": "HTMLView",
      "description": "",
      "description_tooltip": null,
      "layout": "IPY_MODEL_b862699870e24fbd838c0638d5de379c",
      "placeholder": "​",
      "style": "IPY_MODEL_df10c8f18d26410aafe3b9d76784deb0",
      "value": " 200/200 [04:13&lt;00:00,  2.31s/pipeline]"
     }
    },
    "d023243dc11b4f2c807ced53dccf1f82": {
     "model_module": "@jupyter-widgets/base",
     "model_name": "LayoutModel",
     "state": {
      "_model_module": "@jupyter-widgets/base",
      "_model_module_version": "1.2.0",
      "_model_name": "LayoutModel",
      "_view_count": null,
      "_view_module": "@jupyter-widgets/base",
      "_view_module_version": "1.2.0",
      "_view_name": "LayoutView",
      "align_content": null,
      "align_items": null,
      "align_self": null,
      "border": null,
      "bottom": null,
      "display": null,
      "flex": null,
      "flex_flow": null,
      "grid_area": null,
      "grid_auto_columns": null,
      "grid_auto_flow": null,
      "grid_auto_rows": null,
      "grid_column": null,
      "grid_gap": null,
      "grid_row": null,
      "grid_template_areas": null,
      "grid_template_columns": null,
      "grid_template_rows": null,
      "height": null,
      "justify_content": null,
      "justify_items": null,
      "left": null,
      "margin": null,
      "max_height": null,
      "max_width": null,
      "min_height": null,
      "min_width": null,
      "object_fit": null,
      "object_position": null,
      "order": null,
      "overflow": null,
      "overflow_x": null,
      "overflow_y": null,
      "padding": null,
      "right": null,
      "top": null,
      "visibility": null,
      "width": null
     }
    },
    "d334363c51984eeab2ecb8d8ad18c22a": {
     "model_module": "@jupyter-widgets/base",
     "model_name": "LayoutModel",
     "state": {
      "_model_module": "@jupyter-widgets/base",
      "_model_module_version": "1.2.0",
      "_model_name": "LayoutModel",
      "_view_count": null,
      "_view_module": "@jupyter-widgets/base",
      "_view_module_version": "1.2.0",
      "_view_name": "LayoutView",
      "align_content": null,
      "align_items": null,
      "align_self": null,
      "border": null,
      "bottom": null,
      "display": null,
      "flex": null,
      "flex_flow": null,
      "grid_area": null,
      "grid_auto_columns": null,
      "grid_auto_flow": null,
      "grid_auto_rows": null,
      "grid_column": null,
      "grid_gap": null,
      "grid_row": null,
      "grid_template_areas": null,
      "grid_template_columns": null,
      "grid_template_rows": null,
      "height": null,
      "justify_content": null,
      "justify_items": null,
      "left": null,
      "margin": null,
      "max_height": null,
      "max_width": null,
      "min_height": null,
      "min_width": null,
      "object_fit": null,
      "object_position": null,
      "order": null,
      "overflow": null,
      "overflow_x": null,
      "overflow_y": null,
      "padding": null,
      "right": null,
      "top": null,
      "visibility": null,
      "width": null
     }
    },
    "d4884894b44f4a84af1956318351bedc": {
     "model_module": "@jupyter-widgets/controls",
     "model_name": "FloatProgressModel",
     "state": {
      "_dom_classes": [],
      "_model_module": "@jupyter-widgets/controls",
      "_model_module_version": "1.5.0",
      "_model_name": "FloatProgressModel",
      "_view_count": null,
      "_view_module": "@jupyter-widgets/controls",
      "_view_module_version": "1.5.0",
      "_view_name": "ProgressView",
      "bar_style": "danger",
      "description": "Optimization Progress:  30%",
      "description_tooltip": null,
      "layout": "IPY_MODEL_c0f1439848364251b16453858a5b56b8",
      "max": 100,
      "min": 0,
      "orientation": "horizontal",
      "style": "IPY_MODEL_6ce0da8be612441baa10e9f895cbe085",
      "value": 30
     }
    },
    "d57b14a56be04df38f130300015b6fc2": {
     "model_module": "@jupyter-widgets/controls",
     "model_name": "DescriptionStyleModel",
     "state": {
      "_model_module": "@jupyter-widgets/controls",
      "_model_module_version": "1.5.0",
      "_model_name": "DescriptionStyleModel",
      "_view_count": null,
      "_view_module": "@jupyter-widgets/base",
      "_view_module_version": "1.2.0",
      "_view_name": "StyleView",
      "description_width": ""
     }
    },
    "da2095b42e624697a7dd56bdd1442fd3": {
     "model_module": "@jupyter-widgets/controls",
     "model_name": "DescriptionStyleModel",
     "state": {
      "_model_module": "@jupyter-widgets/controls",
      "_model_module_version": "1.5.0",
      "_model_name": "DescriptionStyleModel",
      "_view_count": null,
      "_view_module": "@jupyter-widgets/base",
      "_view_module_version": "1.2.0",
      "_view_name": "StyleView",
      "description_width": ""
     }
    },
    "dcc1fcf332834a7eb6c3bb9902f2678b": {
     "model_module": "@jupyter-widgets/controls",
     "model_name": "HBoxModel",
     "state": {
      "_dom_classes": [],
      "_model_module": "@jupyter-widgets/controls",
      "_model_module_version": "1.5.0",
      "_model_name": "HBoxModel",
      "_view_count": null,
      "_view_module": "@jupyter-widgets/controls",
      "_view_module_version": "1.5.0",
      "_view_name": "HBoxView",
      "box_style": "",
      "children": [
       "IPY_MODEL_10ed8326c5564d42aea5803d1855f8b5",
       "IPY_MODEL_563867b11bf24f3eadc2e9e8acd5ecee"
      ],
      "layout": "IPY_MODEL_03dd3110a9d04d249f8cfdf5971306ff"
     }
    },
    "df10c8f18d26410aafe3b9d76784deb0": {
     "model_module": "@jupyter-widgets/controls",
     "model_name": "DescriptionStyleModel",
     "state": {
      "_model_module": "@jupyter-widgets/controls",
      "_model_module_version": "1.5.0",
      "_model_name": "DescriptionStyleModel",
      "_view_count": null,
      "_view_module": "@jupyter-widgets/base",
      "_view_module_version": "1.2.0",
      "_view_name": "StyleView",
      "description_width": ""
     }
    },
    "f818cb54f3c24a6ba0d7642587e9f2d5": {
     "model_module": "@jupyter-widgets/base",
     "model_name": "LayoutModel",
     "state": {
      "_model_module": "@jupyter-widgets/base",
      "_model_module_version": "1.2.0",
      "_model_name": "LayoutModel",
      "_view_count": null,
      "_view_module": "@jupyter-widgets/base",
      "_view_module_version": "1.2.0",
      "_view_name": "LayoutView",
      "align_content": null,
      "align_items": null,
      "align_self": null,
      "border": null,
      "bottom": null,
      "display": null,
      "flex": null,
      "flex_flow": null,
      "grid_area": null,
      "grid_auto_columns": null,
      "grid_auto_flow": null,
      "grid_auto_rows": null,
      "grid_column": null,
      "grid_gap": null,
      "grid_row": null,
      "grid_template_areas": null,
      "grid_template_columns": null,
      "grid_template_rows": null,
      "height": null,
      "justify_content": null,
      "justify_items": null,
      "left": null,
      "margin": null,
      "max_height": null,
      "max_width": null,
      "min_height": null,
      "min_width": null,
      "object_fit": null,
      "object_position": null,
      "order": null,
      "overflow": null,
      "overflow_x": null,
      "overflow_y": null,
      "padding": null,
      "right": null,
      "top": null,
      "visibility": null,
      "width": null
     }
    },
    "ff06b19310cb42a5b324f21e960a0ecd": {
     "model_module": "@jupyter-widgets/controls",
     "model_name": "HTMLModel",
     "state": {
      "_dom_classes": [],
      "_model_module": "@jupyter-widgets/controls",
      "_model_module_version": "1.5.0",
      "_model_name": "HTMLModel",
      "_view_count": null,
      "_view_module": "@jupyter-widgets/controls",
      "_view_module_version": "1.5.0",
      "_view_name": "HTMLView",
      "description": "",
      "description_tooltip": null,
      "layout": "IPY_MODEL_09d7ba6df3d74739b71cb1cb3cbce05e",
      "placeholder": "​",
      "style": "IPY_MODEL_73ee246dd90244f0aaa66fb42c27a26d",
      "value": " 200/200 [01:47&lt;00:00,  3.04pipeline/s]"
     }
    }
   }
  }
 },
 "nbformat": 4,
 "nbformat_minor": 1
}
